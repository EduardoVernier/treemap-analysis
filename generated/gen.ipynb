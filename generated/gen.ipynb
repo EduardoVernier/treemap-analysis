{
 "cells": [
  {
   "cell_type": "code",
   "execution_count": 1,
   "metadata": {},
   "outputs": [],
   "source": [
    "%matplotlib inline\n",
    "import numpy as np\n",
    "import pandas as pd\n",
    "import matplotlib.pyplot as plt\n",
    "from scipy import stats\n",
    "import sys\n",
    "import math"
   ]
  },
  {
   "cell_type": "code",
   "execution_count": 2,
   "metadata": {},
   "outputs": [],
   "source": [
    "from string import ascii_lowercase\n",
    "import itertools\n",
    "\n",
    "def iter_all_strings():\n",
    "    size = 1\n",
    "    while True:\n",
    "        for s in itertools.product(ascii_lowercase, repeat=size):\n",
    "            yield \"\".join(s)\n",
    "        size +=1"
   ]
  },
  {
   "cell_type": "code",
   "execution_count": 10,
   "metadata": {},
   "outputs": [],
   "source": [
    "def generate_labels(n):\n",
    "    return [s for s in itertools.islice(iter_all_strings(), n)]\n"
   ]
  },
  {
   "cell_type": "code",
   "execution_count": 20,
   "metadata": {},
   "outputs": [],
   "source": [
    "# n_revisions = 100\n",
    "# n_items = 200\n",
    "\n",
    "# for rev in range(n_revisions):\n",
    "#     df = pd.DataFrame({\"id\" : generate_labels(n_items), \n",
    "#                        \"weight\" : np.random.uniform(low=0, high=1, size=(n_items,))})\n",
    "#     df.to_csv(\"rand.\" + str(rev) + \".csv\", index=False)"
   ]
  },
  {
   "cell_type": "code",
   "execution_count": 67,
   "metadata": {},
   "outputs": [],
   "source": [
    "# from numpy.polynomial.polynomial import polyval\n",
    "\n",
    "# all_evo = []\n",
    "# for item in range(n_items):\n",
    "#     coefs = np.random.uniform(low=0, high=1, size=(n_items, 5))\n",
    "#     item_evo = []\n",
    "#     for rev in range(n_revisions):\n",
    "#         item_evo.append(polyval(rev, coefs[item]))\n",
    "#     all_evo.append(item_evo)\n",
    "    \n",
    "# all_evo = list(zip(*all_evo))"
   ]
  },
  {
   "cell_type": "code",
   "execution_count": 68,
   "metadata": {},
   "outputs": [],
   "source": [
    "# n_revisions = 100\n",
    "# n_items = 200\n",
    "\n",
    "# for rev in range(n_revisions):\n",
    "#     df = pd.DataFrame({\"id\" : generate_labels(n_items), \n",
    "#                        \"weight\" : all_evo[rev]})\n",
    "#     df.to_csv(\"poly.\" + str(rev) + \".csv\", index=False)"
   ]
  },
  {
   "cell_type": "code",
   "execution_count": null,
   "metadata": {},
   "outputs": [],
   "source": [
    "# n_revisions = 100\n",
    "# n_items = 200\n",
    "\n",
    "# for rev in range(n_revisions):\n",
    "#     df = pd.DataFrame({\"id\" : generate_labels(n_items), \n",
    "#                        \"weight\" : np.random.uniform(low=0, high=1, size=(n_items,))})\n",
    "\n",
    "#     df.to_csv(\"poly.\" + str(rev) + \".csv\", index=False)"
   ]
  },
  {
   "cell_type": "code",
   "execution_count": 76,
   "metadata": {},
   "outputs": [],
   "source": [
    "n_revisions = 100\n",
    "n_items = 200\n",
    "\n",
    "for rev in range(n_revisions):\n",
    "    if rev % 2 == 0:\n",
    "        l = 0\n",
    "        h = 0.1\n",
    "    else:\n",
    "        l = 0.9\n",
    "        h = 1\n",
    "    \n",
    "    df = pd.DataFrame({\"id\" : generate_labels(n_items), \n",
    "                       \"weight\" : np.random.uniform(low=l, high=h, size=(n_items,))})\n",
    "    df.to_csv(\"randjump10.\" + str(rev) + \".csv\", index=False)"
   ]
  },
  {
   "cell_type": "code",
   "execution_count": 74,
   "metadata": {},
   "outputs": [
    {
     "data": {
      "text/plain": [
       "0.1"
      ]
     },
     "execution_count": 74,
     "metadata": {},
     "output_type": "execute_result"
    }
   ],
   "source": [
    "(5%2)/10"
   ]
  }
 ],
 "metadata": {
  "kernelspec": {
   "display_name": "Python 3",
   "language": "python",
   "name": "python3"
  },
  "language_info": {
   "codemirror_mode": {
    "name": "ipython",
    "version": 3
   },
   "file_extension": ".py",
   "mimetype": "text/x-python",
   "name": "python",
   "nbconvert_exporter": "python",
   "pygments_lexer": "ipython3",
   "version": "3.5.2"
  }
 },
 "nbformat": 4,
 "nbformat_minor": 2
}
