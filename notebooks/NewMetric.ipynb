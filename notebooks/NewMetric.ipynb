{
 "cells": [
  {
   "cell_type": "markdown",
   "metadata": {},
   "source": []
  },
  {
   "cell_type": "code",
   "execution_count": 167,
   "metadata": {},
   "outputs": [],
   "source": [
    "%matplotlib inline\n",
    "import numpy as np\n",
    "import pandas as pd\n",
    "import matplotlib.pyplot as plt\n",
    "from scipy import stats\n",
    "import sys\n",
    "import math\n",
    "sys.path.append('/home/eduardo/PycharmProjects/treemap-analysis/code')\n",
    "\n",
    "import Parser\n",
    "import SpatialMetrics\n",
    "import TemporalMetrics"
   ]
  },
  {
   "cell_type": "code",
   "execution_count": 168,
   "metadata": {},
   "outputs": [],
   "source": [
    "# history = Parser.parse_rectangles('sqr', 'calcuta')\n"
   ]
  },
  {
   "cell_type": "code",
   "execution_count": 169,
   "metadata": {
    "scrolled": true
   },
   "outputs": [],
   "source": [
    "# history[0].head()\n",
    "# base_width = (df1['x'] + df1['w']).max()\n",
    "# base_height = (df1['y'] + df1['h']).max()"
   ]
  },
  {
   "cell_type": "code",
   "execution_count": 170,
   "metadata": {},
   "outputs": [],
   "source": [
    "def point_distance(x1, y1, x2, y2):\n",
    "    return math.sqrt((x1 - x2) ** 2 + (y1 - y2) ** 2)\n",
    "\n",
    "def corner_travel(*args):\n",
    "    x1, y1, w1, h1, x2, y2, w2, h2 = args\n",
    "    return point_distance(x1, y1, x2, y2)   \\\n",
    "        + point_distance(x1 + w1, y1, x2 + w2, y2)   \\\n",
    "        + point_distance(x1, y1 + h1, x2, y2 + h2)   \\\n",
    "        + point_distance(x1 + w1, y1 + h1, x2 + w2, y2 + h2)"
   ]
  },
  {
   "cell_type": "code",
   "execution_count": 171,
   "metadata": {},
   "outputs": [],
   "source": [
    "# df1 = history[0]\n",
    "# df2 = history[1]\n",
    "# df = pd.merge(df1, df2, how='inner', left_index=True, right_index=True)\n",
    "# df.columns = ['x1', 'y1', 'w1', 'h1', 'x2', 'y2', 'w2', 'h2']\n",
    "# df['corner_travel'] = df.apply(lambda r: corner_travel(*list(r)), axis=1)\n",
    "# #df"
   ]
  },
  {
   "cell_type": "code",
   "execution_count": 172,
   "metadata": {},
   "outputs": [],
   "source": [
    "def minimum_travel(*args):\n",
    "    x1, y1, w1, h1, x2, y2, w2, h2, _ = args\n",
    "    return 2 * math.sqrt(2) * abs(math.sqrt(h1 * w1) - math.sqrt(h2 * w2))"
   ]
  },
  {
   "cell_type": "code",
   "execution_count": 173,
   "metadata": {
    "scrolled": true
   },
   "outputs": [],
   "source": [
    "# df['minimum_travel'] = df.apply(lambda r: minimum_travel(*list(r)), axis=1)\n",
    "# #df.head()"
   ]
  },
  {
   "cell_type": "code",
   "execution_count": 174,
   "metadata": {
    "scrolled": false
   },
   "outputs": [],
   "source": [
    "# df['instability'] = df['corner_travel'] - df['minimum_travel']\n",
    "# df"
   ]
  },
  {
   "cell_type": "code",
   "execution_count": 175,
   "metadata": {},
   "outputs": [],
   "source": [
    "# # Normalize by 4 * hypotenuse\n",
    "# norm = 4 * math.sqrt(base_width ** 2 + base_height ** 2)\n",
    "# norm"
   ]
  },
  {
   "cell_type": "code",
   "execution_count": 176,
   "metadata": {
    "scrolled": true
   },
   "outputs": [],
   "source": [
    "# df['norm_instability'] = df['instability'] / norm\n",
    "# df.head()"
   ]
  },
  {
   "cell_type": "code",
   "execution_count": 177,
   "metadata": {},
   "outputs": [],
   "source": [
    "# # Just defining the styling of the plot, don't mind this\n",
    "# def styleBoxplot(bp, ax, n_revisions):\n",
    "    \n",
    "#     def get_ax_size(ax):\n",
    "#         bbox = ax.get_window_extent().transformed(fig.dpi_scale_trans.inverted())\n",
    "#         width, height = bbox.width, bbox.height\n",
    "#         width *= fig.dpi\n",
    "#         height *= fig.dpi\n",
    "#         return width, height\n",
    "    \n",
    "#     for box in bp['boxes']:\n",
    "#         # change outline color\n",
    "#         box.set(color='#1b9e77', linewidth=0)\n",
    "#         # change fill color\n",
    "#         box.set(facecolor='#1b9e77')\n",
    "#         box.set_zorder(10)\n",
    "#     for i, median in enumerate(bp['medians']):\n",
    "#         median.set(color='#1445FF', linewidth=2, ms=(get_ax_size(ax)[0])/(n_revisions))\n",
    "#         median.set_zorder(11)\n",
    "#         median.set_xdata([i + 1 - 0.3, i + 1 + 0.3])\n",
    "#     for whisker in bp['whiskers']:\n",
    "#         whisker.set(color='#CCCCCC', linestyle='-', linewidth=(get_ax_size(ax)[0])/(n_revisions))\n",
    "#     for cap in bp['caps']:\n",
    "#         cap.set(color='#FFFFFF', linewidth=0)\n",
    "        \n",
    "#     # ax.set_ylim([0, 1])\n",
    "    \n",
    "#     # Set only 3 ticks on x\n",
    "#     ax.set_xticks([1, n_revisions / 2, n_revisions], minor=False)\n",
    "#     ax.set_xticklabels([1, int(n_revisions / 2), n_revisions], fontdict=None, minor=False)\n",
    "    \n",
    "#     # Remove extra spines and ticks\n",
    "#     ax.spines['top'].set_visible(False)\n",
    "#     ax.spines['right'].set_visible(False)\n",
    "#     ax.spines['left'].set_zorder(20)\n",
    "#     ax.spines['bottom'].set_zorder(20)\n",
    "#     ax.tick_params(axis='x', which='both', top='off', direction='out')\n",
    "#     ax.tick_params(axis='y', which='both', right='off', direction='out')\n",
    "\n",
    "# def cm2inch(value):\n",
    "#     return value/2.54"
   ]
  },
  {
   "cell_type": "code",
   "execution_count": 178,
   "metadata": {
    "scrolled": false
   },
   "outputs": [],
   "source": [
    "# dataset_id = 'calcuta'\n",
    "# technique_list = Parser.list_techniques()\n",
    "# nrow = 6\n",
    "# ncol = 2\n",
    "# fig, axs = plt.subplots(nrow, ncol, sharex=True, sharey=True, figsize=(cm2inch(20), cm2inch(2*22)))\n",
    "# fig.tight_layout()\n",
    "# for i, ax in enumerate(fig.axes):    \n",
    "#     if i == 1:\n",
    "#         break\n",
    "#     ax.set_title(technique_list[i].upper())\n",
    "\n",
    "#     data = []\n",
    "#     history = Parser.parse_rectangles(technique_list[i], dataset_id)\n",
    "#     for i in range(1, len(history)):\n",
    "#         df1 = history[i - 1]\n",
    "#         df2 = history[i]\n",
    "#         df = pd.merge(df1, df2, how='inner', left_index=True, right_index=True)\n",
    "#         df.columns = ['x1', 'y1', 'w1', 'h1', 'x2', 'y2', 'w2', 'h2']\n",
    "#         df['corner_travel'] = df.apply(lambda r: corner_travel(*list(r)), axis=1)\n",
    "#         df['minimum_travel'] = df.apply(lambda r: minimum_travel(*list(r)), axis=1)\n",
    "#         df['instability'] = df['corner_travel'] - df['minimum_travel']\n",
    "#         norm = 4 * math.sqrt(base_width ** 2 + base_height ** 2)\n",
    "#         df['norm_instability'] = df['instability'] / norm\n",
    "#         data.append(df['norm_instability'].values)\n",
    "        \n",
    "        \n",
    "#     bp = ax.boxplot(data, whis=[5, 95], showfliers=False, patch_artist=True, widths=1);\n",
    "    \n",
    "#     ax.set_ylim(ymin=-0.05, ymax=1)\n",
    "#     ax.set_yticks([0, .25, .5, .75, 1], minor=False)\n",
    "#     ax.set_yticklabels([0, .25, .5, .75, 1], fontdict=None, minor=False)\n",
    "#     styleBoxplot(bp, ax, len(data))\n",
    "#     df\n",
    "\n",
    "# # # fig.savefig('time/svg/' + dataset_id + '_stab.svg', format='svg', dpi=1200)"
   ]
  },
  {
   "cell_type": "code",
   "execution_count": 179,
   "metadata": {
    "scrolled": false
   },
   "outputs": [],
   "source": [
    "# history = Parser.parse_rectangles('app', 'calcuta')\n",
    "# i = 3\n",
    "# df1 = history[i - 1]\n",
    "# df2 = history[i]\n",
    "# df = pd.merge(df1, df2, how='inner', left_index=True, right_index=True)\n",
    "# df.columns = ['x1', 'y1', 'w1', 'h1', 'x2', 'y2', 'w2', 'h2']\n",
    "# df['corner_travel'] = df.apply(lambda r: corner_travel(*list(r)), axis=1)\n",
    "# df['minimum_travel'] = df.apply(lambda r: minimum_travel(*list(r)), axis=1)\n",
    "# df['instability'] = df['corner_travel'] - df['minimum_travel']\n",
    "# norm = 4 * math.sqrt(base_width ** 2 + base_height ** 2)\n",
    "# df['norm_instability'] = df['instability'] / norm\n",
    "# data.append(df['norm_instability'].values)\n",
    "# df"
   ]
  },
  {
   "cell_type": "code",
   "execution_count": 180,
   "metadata": {},
   "outputs": [
    {
     "name": "stdout",
     "output_type": "stream",
     "text": [
      "0.6312238349017392 1.58422408139209\n",
      "1.0\n",
      "0.3984435297480581\n"
     ]
    }
   ],
   "source": [
    "#w = np.random.rand()\n",
    "w = 0.6312238349017392\n",
    "h = 1 / w\n",
    "a = w * h\n",
    "print(w, h)\n",
    "print(a)\n",
    "print(min(w,h) / max(w,h))"
   ]
  },
  {
   "cell_type": "code",
   "execution_count": 181,
   "metadata": {},
   "outputs": [],
   "source": [
    "n = 2\n",
    "alphas = np.linspace(0.0000000001, 1.0, num=500000, endpoint=False)\n",
    "\n",
    "hn = [alpha * math.sqrt(n) * h for alpha in alphas]\n",
    "wn = [(1 / alpha) * math.sqrt(n) * w for alpha in alphas]"
   ]
  },
  {
   "cell_type": "code",
   "execution_count": 182,
   "metadata": {},
   "outputs": [],
   "source": [
    "for i in range(len(alphas) - 1, -1, -1):\n",
    "    wn.append(hn[i])\n",
    "    hn.append(wn[i]) "
   ]
  },
  {
   "cell_type": "code",
   "execution_count": 183,
   "metadata": {
    "scrolled": true
   },
   "outputs": [],
   "source": [
    "#for i in range(len(wn)):\n",
    "#    print(wn[i], hn[i])    "
   ]
  },
  {
   "cell_type": "code",
   "execution_count": 184,
   "metadata": {
    "scrolled": true
   },
   "outputs": [],
   "source": [
    "df = pd.DataFrame()\n",
    "df['x1'] = np.repeat(-w/2, len(wn))\n",
    "df['y1'] = np.repeat(-h/2, len(wn))\n",
    "df['w1'] = np.repeat(w, len(wn))\n",
    "df['h1'] = np.repeat(h, len(wn))\n",
    "\n",
    "df['x2'] =  wn\n",
    "df['x2'] = - df['x2'] / 2\n",
    "df['y2'] =  hn\n",
    "df['y2'] = - df['y2'] / 2\n",
    "df['w2'] =  wn\n",
    "df['h2'] =  hn\n",
    "#df"
   ]
  },
  {
   "cell_type": "code",
   "execution_count": 185,
   "metadata": {},
   "outputs": [
    {
     "data": {
      "text/html": [
       "<div>\n",
       "<style scoped>\n",
       "    .dataframe tbody tr th:only-of-type {\n",
       "        vertical-align: middle;\n",
       "    }\n",
       "\n",
       "    .dataframe tbody tr th {\n",
       "        vertical-align: top;\n",
       "    }\n",
       "\n",
       "    .dataframe thead th {\n",
       "        text-align: right;\n",
       "    }\n",
       "</style>\n",
       "<table border=\"1\" class=\"dataframe\">\n",
       "  <thead>\n",
       "    <tr style=\"text-align: right;\">\n",
       "      <th></th>\n",
       "      <th>x1</th>\n",
       "      <th>y1</th>\n",
       "      <th>w1</th>\n",
       "      <th>h1</th>\n",
       "      <th>x2</th>\n",
       "      <th>y2</th>\n",
       "      <th>w2</th>\n",
       "      <th>h2</th>\n",
       "      <th>corner_travel</th>\n",
       "    </tr>\n",
       "  </thead>\n",
       "  <tbody>\n",
       "    <tr>\n",
       "      <th>0</th>\n",
       "      <td>-0.315612</td>\n",
       "      <td>-0.792112</td>\n",
       "      <td>0.631224</td>\n",
       "      <td>1.584224</td>\n",
       "      <td>-4.463427e+09</td>\n",
       "      <td>-1.120216e-10</td>\n",
       "      <td>8.926853e+09</td>\n",
       "      <td>2.240431e-10</td>\n",
       "      <td>1.785371e+10</td>\n",
       "    </tr>\n",
       "    <tr>\n",
       "      <th>1</th>\n",
       "      <td>-0.315612</td>\n",
       "      <td>-0.792112</td>\n",
       "      <td>0.631224</td>\n",
       "      <td>1.584224</td>\n",
       "      <td>-2.231602e+05</td>\n",
       "      <td>-2.240543e-06</td>\n",
       "      <td>4.463203e+05</td>\n",
       "      <td>4.481086e-06</td>\n",
       "      <td>8.926394e+05</td>\n",
       "    </tr>\n",
       "    <tr>\n",
       "      <th>2</th>\n",
       "      <td>-0.315612</td>\n",
       "      <td>-0.792112</td>\n",
       "      <td>0.631224</td>\n",
       "      <td>1.584224</td>\n",
       "      <td>-1.115829e+05</td>\n",
       "      <td>-4.480974e-06</td>\n",
       "      <td>2.231657e+05</td>\n",
       "      <td>8.961949e-06</td>\n",
       "      <td>4.463302e+05</td>\n",
       "    </tr>\n",
       "    <tr>\n",
       "      <th>3</th>\n",
       "      <td>-0.315612</td>\n",
       "      <td>-0.792112</td>\n",
       "      <td>0.631224</td>\n",
       "      <td>1.584224</td>\n",
       "      <td>-7.438920e+04</td>\n",
       "      <td>-6.721406e-06</td>\n",
       "      <td>1.487784e+05</td>\n",
       "      <td>1.344281e-05</td>\n",
       "      <td>2.975555e+05</td>\n",
       "    </tr>\n",
       "    <tr>\n",
       "      <th>4</th>\n",
       "      <td>-0.315612</td>\n",
       "      <td>-0.792112</td>\n",
       "      <td>0.631224</td>\n",
       "      <td>1.584224</td>\n",
       "      <td>-5.579213e+04</td>\n",
       "      <td>-8.961837e-06</td>\n",
       "      <td>1.115843e+05</td>\n",
       "      <td>1.792367e-05</td>\n",
       "      <td>2.231673e+05</td>\n",
       "    </tr>\n",
       "  </tbody>\n",
       "</table>\n",
       "</div>"
      ],
      "text/plain": [
       "         x1        y1        w1        h1            x2            y2  \\\n",
       "0 -0.315612 -0.792112  0.631224  1.584224 -4.463427e+09 -1.120216e-10   \n",
       "1 -0.315612 -0.792112  0.631224  1.584224 -2.231602e+05 -2.240543e-06   \n",
       "2 -0.315612 -0.792112  0.631224  1.584224 -1.115829e+05 -4.480974e-06   \n",
       "3 -0.315612 -0.792112  0.631224  1.584224 -7.438920e+04 -6.721406e-06   \n",
       "4 -0.315612 -0.792112  0.631224  1.584224 -5.579213e+04 -8.961837e-06   \n",
       "\n",
       "             w2            h2  corner_travel  \n",
       "0  8.926853e+09  2.240431e-10   1.785371e+10  \n",
       "1  4.463203e+05  4.481086e-06   8.926394e+05  \n",
       "2  2.231657e+05  8.961949e-06   4.463302e+05  \n",
       "3  1.487784e+05  1.344281e-05   2.975555e+05  \n",
       "4  1.115843e+05  1.792367e-05   2.231673e+05  "
      ]
     },
     "execution_count": 185,
     "metadata": {},
     "output_type": "execute_result"
    }
   ],
   "source": [
    "df['corner_travel'] = df.apply(lambda r: corner_travel(*list(r)), axis=1)\n",
    "df.head()"
   ]
  },
  {
   "cell_type": "code",
   "execution_count": null,
   "metadata": {},
   "outputs": [],
   "source": []
  },
  {
   "cell_type": "code",
   "execution_count": 186,
   "metadata": {},
   "outputs": [
    {
     "name": "stdout",
     "output_type": "stream",
     "text": [
      "412470    0.541061\n",
      "Name: w2, dtype: float64\n",
      "412470    0.924111\n",
      "Name: h2, dtype: float64\n"
     ]
    }
   ],
   "source": [
    "best_row = df.iloc[[df['corner_travel'].idxmin()]]\n",
    "print(best_row['w2']/2)\n",
    "print(best_row['h2']/2)"
   ]
  },
  {
   "cell_type": "code",
   "execution_count": 187,
   "metadata": {},
   "outputs": [
    {
     "name": "stdout",
     "output_type": "stream",
     "text": [
      "0.3984435297480581 0.5854934677343272\n"
     ]
    }
   ],
   "source": [
    "ar1 = (float(best_row[['w1', 'h1']].min(axis=1) / best_row[['w1', 'h1']].max(axis=1)))\n",
    "ar2 = (float(best_row[['w2', 'h2']].min(axis=1) / best_row[['w2', 'h2']].max(axis=1)))\n",
    "print(ar1, ar2)"
   ]
  },
  {
   "cell_type": "code",
   "execution_count": 188,
   "metadata": {},
   "outputs": [
    {
     "data": {
      "text/html": [
       "<div>\n",
       "<style scoped>\n",
       "    .dataframe tbody tr th:only-of-type {\n",
       "        vertical-align: middle;\n",
       "    }\n",
       "\n",
       "    .dataframe tbody tr th {\n",
       "        vertical-align: top;\n",
       "    }\n",
       "\n",
       "    .dataframe thead th {\n",
       "        text-align: right;\n",
       "    }\n",
       "</style>\n",
       "<table border=\"1\" class=\"dataframe\">\n",
       "  <thead>\n",
       "    <tr style=\"text-align: right;\">\n",
       "      <th></th>\n",
       "      <th>x1</th>\n",
       "      <th>y1</th>\n",
       "      <th>w1</th>\n",
       "      <th>h1</th>\n",
       "      <th>x2</th>\n",
       "      <th>y2</th>\n",
       "      <th>w2</th>\n",
       "      <th>h2</th>\n",
       "      <th>corner_travel</th>\n",
       "    </tr>\n",
       "  </thead>\n",
       "  <tbody>\n",
       "    <tr>\n",
       "      <th>0</th>\n",
       "      <td>-0.315612</td>\n",
       "      <td>-0.792112</td>\n",
       "      <td>0.631224</td>\n",
       "      <td>1.584224</td>\n",
       "      <td>-0.446343</td>\n",
       "      <td>-1.120216</td>\n",
       "      <td>0.892685</td>\n",
       "      <td>2.240431</td>\n",
       "      <td>1.412756</td>\n",
       "    </tr>\n",
       "  </tbody>\n",
       "</table>\n",
       "</div>"
      ],
      "text/plain": [
       "         x1        y1        w1        h1        x2        y2        w2  \\\n",
       "0 -0.315612 -0.792112  0.631224  1.584224 -0.446343 -1.120216  0.892685   \n",
       "\n",
       "         h2  corner_travel  \n",
       "0  2.240431       1.412756  "
      ]
     },
     "execution_count": 188,
     "metadata": {},
     "output_type": "execute_result"
    }
   ],
   "source": [
    "ndf = pd.DataFrame()\n",
    "ndf['x1'] = np.array([-w/2])\n",
    "ndf['y1'] = np.array([-h/2])\n",
    "ndf['w1'] = np.array([w])\n",
    "ndf['h1'] = np.array([h])\n",
    "\n",
    "w2 = math.sqrt(2) * w\n",
    "h2 = math.sqrt(2) * h\n",
    "ndf['x2'] = np.array([-w2/2])\n",
    "ndf['y2'] = np.array([-h2/2])\n",
    "ndf['w2'] = np.array([w2])\n",
    "ndf['h2'] = np.array([h2])\n",
    "\n",
    "ndf['corner_travel'] = ndf.apply(lambda r: corner_travel(*list(r)), axis=1)\n",
    "ndf"
   ]
  },
  {
   "cell_type": "code",
   "execution_count": null,
   "metadata": {},
   "outputs": [],
   "source": []
  },
  {
   "cell_type": "code",
   "execution_count": 189,
   "metadata": {},
   "outputs": [
    {
     "data": {
      "image/png": "[encoded data removed]",
      "text/plain": [
       "<matplotlib.figure.Figure at 0x7f501106b8d0>"
      ]
     },
     "metadata": {},
     "output_type": "display_data"
    }
   ],
   "source": [
    "from matplotlib.collections import PatchCollection\n",
    "from matplotlib.patches import Rectangle\n",
    "\n",
    "fig, ax = plt.subplots(1)\n",
    "\n",
    "ax.set_title(\"AR:  {:1f} - {:1f} = {:1f}.\".format(ar1, ar2, (abs(ar1-ar2))))\n",
    "\n",
    "ax.set_xlim(-3, 3)\n",
    "ax.set_ylim(-3, 3)\n",
    "\n",
    "p = Rectangle(\n",
    "    (best_row['x1'], best_row['y1']), best_row['w1'], best_row['h1'],\n",
    "    fill=True)\n",
    "\n",
    "ax.add_patch(p)\n",
    "\n",
    "p = Rectangle(\n",
    "    (best_row['x2'], best_row['y2']), best_row['w2'], best_row['h2'],\n",
    "    fill=False)\n",
    "ax.add_patch(p)\n",
    "\n",
    "p = Rectangle(\n",
    "    (ndf['x2'], ndf['y2']), ndf['w2'], ndf['h2'],\n",
    "    fill=False, color=\"#ff0000\")\n",
    "ax.add_patch(p)\n",
    "\n",
    "# for row in df.itertuples():\n",
    "#     ax.plot(row.x2, row.y2, marker = '.', c='r')\n",
    "#     ax.plot(row.x2, row.y2+row.h2, marker = '.', c='r')\n",
    "#     ax.plot(row.x2+row.w2, row.y2, marker = '.', c='r')\n",
    "#     ax.plot(row.x2+row.w2, row.y2+row.h2, marker = '.', c='r')\n",
    "\n",
    "# ax.plot(1.273, 1.567, marker = 'o', c='g')\n",
    "    \n",
    "\n",
    "ax.axvline(x=0)\n",
    "ax.axhline(y=0)\n",
    "\n",
    "fig.savefig(\"grow/{:3f}.png\".format(abs(ar1-ar2)))"
   ]
  },
  {
   "cell_type": "code",
   "execution_count": null,
   "metadata": {},
   "outputs": [],
   "source": []
  },
  {
   "cell_type": "code",
   "execution_count": null,
   "metadata": {},
   "outputs": [],
   "source": []
  }
 ],
 "metadata": {
  "kernelspec": {
   "display_name": "Python 3",
   "language": "python",
   "name": "python3"
  },
  "language_info": {
   "codemirror_mode": {
    "name": "ipython",
    "version": 3
   },
   "file_extension": ".py",
   "mimetype": "text/x-python",
   "name": "python",
   "nbconvert_exporter": "python",
   "pygments_lexer": "ipython3",
   "version": "3.5.2"
  }
 },
 "nbformat": 4,
 "nbformat_minor": 2
}
