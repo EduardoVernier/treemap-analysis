{
 "cells": [
  {
   "cell_type": "code",
   "execution_count": 1,
   "metadata": {},
   "outputs": [],
   "source": [
    "%matplotlib inline\n",
    "import numpy as np\n",
    "import pandas as pd\n",
    "import matplotlib.pyplot as plt\n",
    "from scipy import stats\n",
    "import sys\n",
    "import math\n",
    "sys.path.append('/home/eduardo/PycharmProjects/treemap-analysis/code')\n",
    "\n",
    "import Parser\n",
    "import SpatialMetrics\n",
    "import TemporalMetrics"
   ]
  },
  {
   "cell_type": "code",
   "execution_count": 20,
   "metadata": {},
   "outputs": [
    {
     "name": "stdout",
     "output_type": "stream",
     "text": [
      "['app', 'git', 'hil', 'moo', 'nac', 'new', 'pbm', 'pbs', 'pbz', 'snd', 'spi', 'sqr', 'str']\n",
      "['alpha', 'AudioKit', 'bdb', 'beets', 'brackets', 'caffe', 'calcuta', 'cpython', 'earthdata-search', 'emcee', 'exo', 'exports', 'fsharp', 'gimp', 'hiv', 'hospitalrun-frontend', 'Hystrix', 'iina', 'jenkins', 'Leaflet', 'm-coffee', 'm-names', 'OptiKey', 'osquery', 'PhysicsJS', 'pybuilder', 'scikitlearn', 'shellcheck', 'soundnode-app', 'spacemacs', 'standard', 'uws']\n"
     ]
    }
   ],
   "source": [
    "technique_list = Parser.list_techniques()\n",
    "dataset_list = Parser.list_datasets()\n",
    "print(technique_list)\n",
    "print(dataset_list)"
   ]
  },
  {
   "cell_type": "markdown",
   "metadata": {},
   "source": [
    "# Compute "
   ]
  },
  {
   "cell_type": "code",
   "execution_count": 25,
   "metadata": {},
   "outputs": [
    {
     "name": "stdout",
     "output_type": "stream",
     "text": [
      "b\n"
     ]
    }
   ],
   "source": [
    "p_sheet = pd.DataFrame()\n",
    "wp_sheet = pd.DataFrame()\n",
    "\n",
    "\n",
    "for dataset_id in dataset_list[3]:\n",
    "    results_for_dataset = []\n",
    "    for technique_id in technique_list:\n",
    "        print(dataset_id)\n",
    "\n",
    "        history = Parser.parse_rectangles(technique_id, dataset_id)\n",
    "    \n",
    "        for i in range(1, len(history)):\n",
    "            df = TemporalMetrics.delta_vis(history[i - 1], history[i])\n",
    "            df = pd.merge(df, TemporalMetrics.delta_data_by_area(history[i - 1], history[i]))\n",
    "            df = pd.merge(df, TemporalMetrics.relative_weight(history[i - 1], history[i]))\n",
    "            \n",
    "            break\n",
    "        break\n",
    "    break\n",
    "            #results_for_dataset.append((technique_id, TemporalMetrics.weighted_pearson(df)))\n",
    "            \n"
   ]
  },
  {
   "cell_type": "code",
   "execution_count": null,
   "metadata": {},
   "outputs": [],
   "source": []
  }
 ],
 "metadata": {
  "kernelspec": {
   "display_name": "Python 3",
   "language": "python",
   "name": "python3"
  },
  "language_info": {
   "codemirror_mode": {
    "name": "ipython",
    "version": 3
   },
   "file_extension": ".py",
   "mimetype": "text/x-python",
   "name": "python",
   "nbconvert_exporter": "python",
   "pygments_lexer": "ipython3",
   "version": "3.5.2"
  }
 },
 "nbformat": 4,
 "nbformat_minor": 2
}
