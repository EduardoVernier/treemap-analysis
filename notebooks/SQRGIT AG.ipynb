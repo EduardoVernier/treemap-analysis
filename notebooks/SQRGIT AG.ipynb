{
 "cells": [
  {
   "cell_type": "code",
   "execution_count": 2,
   "metadata": {},
   "outputs": [],
   "source": [
    "%matplotlib inline\n",
    "import numpy as np\n",
    "import pandas as pd\n",
    "import matplotlib.pyplot as plt\n",
    "from scipy import stats\n",
    "import sys\n",
    "import math\n",
    "sys.path.append('/home/eduardo/PycharmProjects/treemap-analysis/code')\n",
    "\n",
    "import Parser\n",
    "import SpatialMetrics\n",
    "import TemporalMetrics"
   ]
  },
  {
   "cell_type": "code",
   "execution_count": 3,
   "metadata": {
    "tags": [
     "parameters"
    ]
   },
   "outputs": [],
   "source": [
    "dataset_id = 'exports'"
   ]
  },
  {
   "cell_type": "code",
   "execution_count": 4,
   "metadata": {},
   "outputs": [],
   "source": [
    "def styleBoxplot(bp, ax, n_revisions):\n",
    "    \n",
    "    def get_ax_size(ax):\n",
    "        bbox = ax.get_window_extent().transformed(fig.dpi_scale_trans.inverted())\n",
    "        width, height = bbox.width, bbox.height\n",
    "        width *= fig.dpi\n",
    "        height *= fig.dpi\n",
    "        return width, height\n",
    "    \n",
    "    for box in bp['boxes']:\n",
    "        # change outline color\n",
    "        box.set(color='#1b9e77', linewidth=0)\n",
    "        # change fill color\n",
    "        box.set(facecolor='#1b9e77')\n",
    "        box.set_zorder(10)\n",
    "    for i, median in enumerate(bp['medians']):\n",
    "        median.set(color='#1445FF', linewidth=2, ms=(get_ax_size(ax)[0])/(n_revisions))\n",
    "        median.set_zorder(11)\n",
    "        median.set_xdata([i + 1 - 0.3, i + 1 + 0.3])\n",
    "    for whisker in bp['whiskers']:\n",
    "        whisker.set(color='#CCCCCC', linestyle='-', linewidth=(get_ax_size(ax)[0])/(n_revisions))\n",
    "    for cap in bp['caps']:\n",
    "        cap.set(color='#FFFFFF', linewidth=0)\n",
    "        \n",
    "    # ax.set_ylim([0, 1])\n",
    "    \n",
    "    # Set only 3 ticks on x\n",
    "    ax.set_xticks([1, n_revisions / 2, n_revisions], minor=False)\n",
    "    ax.set_xticklabels([1, int(n_revisions / 2), n_revisions], fontdict=None, minor=False)\n",
    "    \n",
    "    # Remove extra spines and ticks\n",
    "    ax.spines['top'].set_visible(False)\n",
    "    ax.spines['right'].set_visible(False)\n",
    "    ax.spines['left'].set_zorder(20)\n",
    "    ax.spines['bottom'].set_zorder(20)\n",
    "    ax.tick_params(axis='x', which='both', top='off', direction='out')\n",
    "    ax.tick_params(axis='y', which='both', right='off', direction='out')\n",
    "\n",
    "def cm2inch(value):\n",
    "    return value/2.54"
   ]
  },
  {
   "cell_type": "markdown",
   "metadata": {},
   "source": [
    "# Aggregated spatial metric boxplots\n",
    "How to Aggregate Q_ar and Q_weighted_ar in barplot statistics? 5%, 25%, 50% (median), 75%, 95%.\n",
    "\n",
    "Just averaging items doesn't work. See below."
   ]
  },
  {
   "cell_type": "code",
   "execution_count": 6,
   "metadata": {},
   "outputs": [
    {
     "data": {
      "image/png": "[encoded data removed]",
      "text/plain": [
       "<matplotlib.figure.Figure at 0x7f61d0146240>"
      ]
     },
     "metadata": {},
     "output_type": "display_data"
    }
   ],
   "source": [
    "fig = plt.figure()\n",
    "ax = plt.gca()\n",
    "ax.set_title('sqr'.upper())\n",
    "\n",
    "M = 2  # Number of metrics\n",
    "\n",
    "# 5%, first quartile, median, third quartile, 95% statistics lists\n",
    "statistics_list = []\n",
    "\n",
    "history = Parser.parse_rectangles('sqr', dataset_id)\n",
    "for i, df in enumerate(history):\n",
    "    N = len(df)\n",
    "    \n",
    "    df_ar = SpatialMetrics.q_ar(df)\n",
    "    df_ar = df_ar.assign(weight = pd.Series(1 /(N * M), index=df.index))\n",
    "    #print(df_ar)\n",
    "    \n",
    "    \n",
    "    df_w_ar = SpatialMetrics.q_ar(df)\n",
    "    df_w_ar = pd.merge(df_w_ar, SpatialMetrics.weight(df), left_index=True, right_index=True)\n",
    "    df_w_ar = df_ar.assign(weight = pd.Series(df_w_ar['weight'] / M, index=df.index))\n",
    "    #print(df_w_ar)\n",
    "    \n",
    "    df_rev = pd.concat([df_ar, df_w_ar]) \n",
    "    #print(df_rev['weight'].sum())  # Sum is 1    \n",
    "    \n",
    "    df_rev = df_rev.sort_values(by='q_ar')\n",
    "    df_rev['weight'] = df_rev['weight'].cumsum()\n",
    "    # print(df_rev)\n",
    "    \n",
    "    # 5%, first quartile, median, third quartile, 95%\n",
    "    f = fq = median = tq = nf = float(\"nan\") \n",
    "    for i, row in df_rev.iterrows():\n",
    "        if row['weight'] >= 0.05 and math.isnan(f):\n",
    "            f = row['q_ar']\n",
    "        if row['weight'] >= 0.25 and math.isnan(fq):\n",
    "            fq = row['q_ar']\n",
    "        if row['weight'] >= 0.5 and math.isnan(median):\n",
    "            median = row['q_ar']\n",
    "        if row['weight'] >= 0.75 and math.isnan(tq):\n",
    "            tq = row['q_ar']\n",
    "        if row['weight'] >= 0.95 and math.isnan(nf):\n",
    "            nf = row['q_ar']\n",
    "            \n",
    "    item = {}\n",
    "    item[\"med\"] = median\n",
    "    item[\"q1\"] = fq\n",
    "    item[\"q3\"] = tq\n",
    "    item[\"whislo\"] = f\n",
    "    item[\"whishi\"] = nf\n",
    "    item[\"fliers\"] = []\n",
    "    statistics_list.append(item)\n",
    "    \n",
    "    \n",
    "bp = ax.bxp(statistics_list, patch_artist=True, widths=1);\n",
    "styleBoxplot(bp, ax, len(history))"
   ]
  },
  {
   "cell_type": "code",
   "execution_count": 6,
   "metadata": {
    "scrolled": false
   },
   "outputs": [],
   "source": [
    "# technique_list = Parser.list_techniques()\n",
    "# nrow = 7\n",
    "# ncol = 2\n",
    "# fig, axs = plt.subplots(nrow, ncol, sharex=True, sharey=True, figsize=(cm2inch(20), cm2inch(2*22)))\n",
    "# fig.delaxes(axs[6, 1])\n",
    "# fig.tight_layout()\n",
    "\n",
    "# for i, ax in enumerate(fig.axes):\n",
    "#     ax.set_title(technique_list[i].upper())\n",
    "    \n",
    "#     data = []\n",
    "#     history = Parser.parse_rectangles(technique_list[i], dataset_id)\n",
    "#     for i, df in enumerate(history):\n",
    "#         df_ar = SpatialMetrics.q_ar(df)\n",
    "#         df_ar = pd.merge(df_ar, SpatialMetrics.q_weighted_ar(df), left_index=True, right_index=True)\n",
    "        \n",
    "#     bp = ax.boxplot(data, whis=[5, 95], showfliers=False, patch_artist=True, widths=1);\n",
    "#     styleBoxplot(bp, ax, len(data))\n",
    "\n",
    "#     ax.set_ylim([0, 1])\n",
    "#     ax.set_yticks([0, .25, .5, .75, 1], minor=False)\n",
    "#     ax.set_yticklabels([0, .25, .5, .75, 1], fontdict=None, minor=False)\n",
    " \n",
    "# #fig.savefig('time/svg/' + dataset_id + '_spatial.svg', format='svg', dpi=1200)"
   ]
  },
  {
   "cell_type": "markdown",
   "metadata": {},
   "source": [
    "# Aggregated stability metrics boxplots\n",
    "Weighted and unweighted ratio metrics using the corner travel dist as delta_vis"
   ]
  },
  {
   "cell_type": "code",
   "execution_count": 7,
   "metadata": {},
   "outputs": [],
   "source": [
    "# technique_list = Parser.list_techniques()\n",
    "# nrow = 7\n",
    "# ncol = 2\n",
    "# fig, axs = plt.subplots(nrow, ncol, sharex=True, sharey=True, figsize=(cm2inch(20), cm2inch(2*22)))\n",
    "# fig.delaxes(axs[6, 1])\n",
    "# fig.tight_layout()\n",
    "# for i, ax in enumerate(fig.axes):\n",
    "#     ax.set_title(technique_list[i].upper())\n",
    "\n",
    "#     data = []\n",
    "#     history = Parser.parse_rectangles(technique_list[i], dataset_id)\n",
    "#     for i in range(1, len(history)):\n",
    "#         df = TemporalMetrics.delta_vis(history[i - 1], history[i])\n",
    "#         df = pd.merge(df, TemporalMetrics.delta_data_by_area(history[i - 1], history[i]), left_index=True, right_index=True)\n",
    "#         df = pd.merge(df, TemporalMetrics.relative_weight(history[i - 1], history[i]), left_index=True, right_index=True)\n",
    "\n",
    "#         df_stab = TemporalMetrics.q_ratio(df)\n",
    "#         df_stab = pd.merge(df_stab, TemporalMetrics.q_weighted_ratio(df), left_index=True, right_index=True)\n",
    "        \n",
    "#         column = 't' + str(i)\n",
    "#         data.append(df_stab.mean(axis=1))\n",
    "\n",
    "#     bp = ax.boxplot(data, whis=[5, 95], showfliers=False, patch_artist=True, widths=1);\n",
    "    \n",
    "#     ax.set_ylim(ymin=-0.05)\n",
    "#     ax.set_yticks([0, .25, .5, .75], minor=False)\n",
    "#     ax.set_yticklabels([0, .25, .5, .75], fontdict=None, minor=False)\n",
    "#     styleBoxplot(bp, ax, len(data))\n",
    "\n",
    "# # fig.savefig('time/svg/' + dataset_id + '_stab.svg', format='svg', dpi=1200)"
   ]
  },
  {
   "cell_type": "code",
   "execution_count": 1,
   "metadata": {},
   "outputs": [
    {
     "ename": "NameError",
     "evalue": "name 'plt' is not defined",
     "output_type": "error",
     "traceback": [
      "\u001b[0;31m----------------------------------------------------------------\u001b[0m",
      "\u001b[0;31mNameError\u001b[0m                      Traceback (most recent call last)",
      "\u001b[0;32m<ipython-input-1-857ff9ada6ac>\u001b[0m in \u001b[0;36m<module>\u001b[0;34m()\u001b[0m\n\u001b[0;32m----> 1\u001b[0;31m \u001b[0mfig\u001b[0m \u001b[0;34m=\u001b[0m \u001b[0mplt\u001b[0m\u001b[0;34m.\u001b[0m\u001b[0mfigure\u001b[0m\u001b[0;34m(\u001b[0m\u001b[0;34m)\u001b[0m\u001b[0;34m\u001b[0m\u001b[0m\n\u001b[0m\u001b[1;32m      2\u001b[0m \u001b[0max\u001b[0m \u001b[0;34m=\u001b[0m \u001b[0mplt\u001b[0m\u001b[0;34m.\u001b[0m\u001b[0mgca\u001b[0m\u001b[0;34m(\u001b[0m\u001b[0;34m)\u001b[0m\u001b[0;34m\u001b[0m\u001b[0m\n\u001b[1;32m      3\u001b[0m \u001b[0max\u001b[0m\u001b[0;34m.\u001b[0m\u001b[0mset_title\u001b[0m\u001b[0;34m(\u001b[0m\u001b[0;34m'sqr'\u001b[0m\u001b[0;34m.\u001b[0m\u001b[0mupper\u001b[0m\u001b[0;34m(\u001b[0m\u001b[0;34m)\u001b[0m\u001b[0;34m)\u001b[0m\u001b[0;34m\u001b[0m\u001b[0m\n\u001b[1;32m      4\u001b[0m \u001b[0;34m\u001b[0m\u001b[0m\n\u001b[1;32m      5\u001b[0m \u001b[0mdata\u001b[0m \u001b[0;34m=\u001b[0m \u001b[0;34m[\u001b[0m\u001b[0;34m]\u001b[0m\u001b[0;34m\u001b[0m\u001b[0m\n",
      "\u001b[0;31mNameError\u001b[0m: name 'plt' is not defined"
     ]
    }
   ],
   "source": [
    "fig = plt.figure()\n",
    "ax = plt.gca()\n",
    "ax.set_title('sqr'.upper())\n",
    "\n",
    "data = []\n",
    "history = Parser.parse_rectangles('sqr', dataset_id)\n",
    "for i in range(1, len(history)):\n",
    "    df = TemporalMetrics.delta_vis(history[i - 1], history[i])\n",
    "    df = pd.merge(df, TemporalMetrics.delta_data_by_area(history[i - 1], history[i]), left_index=True, right_index=True)\n",
    "    df = pd.merge(df, TemporalMetrics.relative_weight(history[i - 1], history[i]), left_index=True, right_index=True)\n",
    "\n",
    "    df_stab = TemporalMetrics.q_ratio(df)\n",
    "    #df_stab = pd.merge(df_stab, TemporalMetrics.q_weighted_ratio(df), left_index=True, right_index=True)\n",
    "    data.append(df_stab)\n",
    "    \n",
    "    \n",
    "bp = ax.boxplot(data, whis=[5, 95], showfliers=False, patch_artist=True, widths=1);\n",
    "styleBoxplot(bp, ax, len(history))"
   ]
  },
  {
   "cell_type": "code",
   "execution_count": 9,
   "metadata": {
    "scrolled": false
   },
   "outputs": [
    {
     "name": "stdout",
     "output_type": "stream",
     "text": [
      "1\n",
      "2\n",
      "3\n",
      "4\n",
      "5\n",
      "6\n",
      "7\n",
      "8\n",
      "9\n",
      "10\n",
      "11\n",
      "12\n",
      "13\n",
      "14\n",
      "15\n",
      "16\n",
      "17\n",
      "18\n",
      "19\n",
      "20\n",
      "21\n",
      "22\n",
      "23\n",
      "24\n",
      "25\n",
      "26\n",
      "27\n",
      "28\n",
      "29\n",
      "30\n",
      "31\n",
      "32\n",
      "33\n",
      "34\n",
      "35\n",
      "36\n",
      "37\n",
      "38\n",
      "39\n",
      "40\n",
      "41\n",
      "42\n",
      "43\n",
      "44\n",
      "45\n",
      "46\n",
      "47\n",
      "48\n",
      "49\n",
      "50\n",
      "51\n",
      "52\n",
      "53\n",
      "54\n",
      "55\n",
      "56\n",
      "57\n",
      "58\n",
      "59\n",
      "60\n",
      "61\n",
      "62\n",
      "63\n",
      "64\n",
      "65\n",
      "66\n",
      "67\n",
      "68\n",
      "69\n",
      "70\n",
      "71\n",
      "72\n",
      "73\n",
      "74\n",
      "75\n",
      "76\n",
      "77\n",
      "78\n",
      "79\n",
      "80\n",
      "81\n",
      "82\n",
      "83\n",
      "84\n",
      "85\n",
      "86\n",
      "87\n",
      "88\n",
      "89\n",
      "90\n",
      "91\n",
      "92\n",
      "93\n",
      "94\n",
      "95\n",
      "96\n"
     ]
    },
    {
     "data": {
      "image/png": "[encoded data removed]",
      "text/plain": [
       "<matplotlib.figure.Figure at 0x7fed21046518>"
      ]
     },
     "metadata": {},
     "output_type": "display_data"
    }
   ],
   "source": [
    "fig = plt.figure()\n",
    "ax = plt.gca()\n",
    "ax.set_title('sqr'.upper())\n",
    "\n",
    "data = []\n",
    "history = Parser.parse_rectangles('sqr', dataset_id)\n",
    "for i in range(1, len(history)):\n",
    "    df = TemporalMetrics.relative_position_change_wrapper(history[i - 1], history[i])\n",
    "    df = pd.merge(df, TemporalMetrics.delta_data_by_area(history[i - 1], history[i]), left_index=True, right_index=True)\n",
    "    df = pd.merge(df, TemporalMetrics.relative_weight(history[i - 1], history[i]), left_index=True, right_index=True)\n",
    "    \n",
    "    print(i)\n",
    "    \n",
    "    df_stab = TemporalMetrics.q_ratio(df)\n",
    "    #df_stab = pd.merge(df_stab, TemporalMetrics.q_weighted_ratio(df), left_index=True, right_index=True)\n",
    "    data.append(df_stab)\n",
    "    \n",
    "    \n",
    "bp = ax.boxplot(data, whis=[5, 95], showfliers=False, patch_artist=True, widths=1);\n",
    "styleBoxplot(bp, ax, len(history))"
   ]
  },
  {
   "cell_type": "code",
   "execution_count": 12,
   "metadata": {},
   "outputs": [
    {
     "data": {
      "image/png": "[encoded data removed]",
      "text/plain": [
       "<matplotlib.figure.Figure at 0x7fed20b07978>"
      ]
     },
     "metadata": {},
     "output_type": "display_data"
    }
   ],
   "source": [
    "fig = plt.figure()\n",
    "ax = plt.gca()\n",
    "bp = ax.boxplot(data, whis=[5, 95], showfliers=False, patch_artist=True, widths=1);\n",
    "styleBoxplot(bp, ax, len(history))"
   ]
  }
 ],
 "metadata": {
  "celltoolbar": "Tags",
  "kernelspec": {
   "display_name": "Python 3",
   "language": "python",
   "name": "python3"
  },
  "language_info": {
   "codemirror_mode": {
    "name": "ipython",
    "version": 3
   },
   "file_extension": ".py",
   "mimetype": "text/x-python",
   "name": "python",
   "nbconvert_exporter": "python",
   "pygments_lexer": "ipython3",
   "version": "3.5.2"
  }
 },
 "nbformat": 4,
 "nbformat_minor": 1
}
