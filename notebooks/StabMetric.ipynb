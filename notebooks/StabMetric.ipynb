{
 "cells": [
  {
   "cell_type": "code",
   "execution_count": 43,
   "metadata": {},
   "outputs": [],
   "source": [
    "%matplotlib inline\n",
    "import numpy as np\n",
    "import pandas as pd\n",
    "import matplotlib.pyplot as plt\n",
    "from scipy import stats\n",
    "import sys\n",
    "import math\n",
    "sys.path.append('/home/eduardo/PycharmProjects/treemap-analysis/code')\n",
    "\n",
    "import Parser\n",
    "import SpatialMetrics\n",
    "import TemporalMetrics"
   ]
  },
  {
   "cell_type": "code",
   "execution_count": 44,
   "metadata": {
    "tags": [
     "parameters"
    ]
   },
   "outputs": [],
   "source": [
    "dataset_id = 'poly'"
   ]
  },
  {
   "cell_type": "markdown",
   "metadata": {},
   "source": [
    "## Let's see the distributions of delta_data and delta_vis for this dataset.\n",
    "We will consider delta_vis observations from all techniques. "
   ]
  },
  {
   "cell_type": "code",
   "execution_count": 45,
   "metadata": {},
   "outputs": [],
   "source": [
    "technique_list = Parser.list_techniques()\n",
    "\n",
    "delta_vis = np.array([])\n",
    "delta_data = np.array([])\n",
    "\n",
    "for i, technique in enumerate(technique_list):\n",
    "    history = Parser.parse_rectangles(technique, dataset_id)\n",
    "    for i in range(1, len(history)):\n",
    "        df = TemporalMetrics.delta_vis(history[i - 1], history[i])\n",
    "        df = pd.merge(df, TemporalMetrics.delta_data_by_area(history[i - 1], history[i]), left_index=True, right_index=True)\n",
    "        df = pd.merge(df, TemporalMetrics.relative_weight(history[i - 1], history[i]), left_index=True, right_index=True)\n",
    "        \n",
    "        delta_vis = np.append(delta_vis, df['delta_vis'].values)\n",
    "        delta_data = np.append(delta_data, df['delta_data'].values)"
   ]
  },
  {
   "cell_type": "code",
   "execution_count": 46,
   "metadata": {},
   "outputs": [
    {
     "name": "stdout",
     "output_type": "stream",
     "text": [
      "Number of observations: 217800\n"
     ]
    }
   ],
   "source": [
    "print (\"Number of observations: \" + str(len(delta_data)))"
   ]
  },
  {
   "cell_type": "markdown",
   "metadata": {},
   "source": [
    "Let's plot the distribution of delta_data and delta_vis over [0, 1] and [0, 0.01] range."
   ]
  },
  {
   "cell_type": "code",
   "execution_count": 47,
   "metadata": {},
   "outputs": [],
   "source": [
    "# fig = plt.figure()\n",
    "# bins = np.histogram(np.hstack((delta_vis,delta_data)), bins=50)[1]\n",
    "# plt.hist(delta_data,bins,alpha=0.3,label='delta_data',histtype='stepfilled');\n",
    "# plt.hist(delta_vis,bins,alpha=0.3,label='delta_vis',histtype='stepfilled');\n",
    "# plt.legend()"
   ]
  },
  {
   "cell_type": "code",
   "execution_count": 48,
   "metadata": {},
   "outputs": [],
   "source": [
    "# fig = plt.figure()\n",
    "# bins = np.histogram(np.hstack((delta_vis,delta_data)), bins=3000)[1]\n",
    "# plt.hist(delta_data,bins,alpha=0.3,label='delta_data',histtype='stepfilled');\n",
    "# plt.hist(delta_vis,bins,alpha=0.3,label='delta_vis',histtype='stepfilled');\n",
    "\n",
    "# plt.xlim([0,0.01])\n",
    "# plt.legend()"
   ]
  },
  {
   "cell_type": "markdown",
   "metadata": {},
   "source": [
    "Delta_data (for this dataset) is spread over a much more compact range than delta_vis.\n",
    "Let's follow Bettina's suggestion and multiply delta_data by a constant K to bring its distribution closer to the distribution of delta_vis.\n",
    "\n",
    "We don't yet know what a good K is. A decent guess would be to take the mean of delta_vis and divide it by the mean of delta_data.\n",
    "\n",
    "For this dataset (and techniques we are looking at), K = 92.72. "
   ]
  },
  {
   "cell_type": "code",
   "execution_count": 49,
   "metadata": {},
   "outputs": [],
   "source": [
    "# np.mean(delta_vis)"
   ]
  },
  {
   "cell_type": "code",
   "execution_count": 50,
   "metadata": {
    "scrolled": true
   },
   "outputs": [],
   "source": [
    "# np.mean(delta_data)"
   ]
  },
  {
   "cell_type": "markdown",
   "metadata": {},
   "source": [
    "## We are forcing K = 5"
   ]
  },
  {
   "cell_type": "code",
   "execution_count": 51,
   "metadata": {
    "scrolled": true
   },
   "outputs": [],
   "source": [
    "# K = np.mean(delta_vis) / np.mean(delta_data)\n",
    "K = 1"
   ]
  },
  {
   "cell_type": "markdown",
   "metadata": {},
   "source": [
    "The normalization is done is 2 steps:\n",
    "1. Scale delta_data by K\n",
    "2. Clip (clamp) delta_data range to [0,1]"
   ]
  },
  {
   "cell_type": "code",
   "execution_count": 52,
   "metadata": {
    "scrolled": true
   },
   "outputs": [],
   "source": [
    "# delta_data = np.multiply(delta_data, K)\n",
    "# stats.describe(delta_data)"
   ]
  },
  {
   "cell_type": "code",
   "execution_count": 53,
   "metadata": {},
   "outputs": [],
   "source": [
    "# delta_data = np.clip(delta_data, 0, 1)\n",
    "# stats.describe(delta_data)"
   ]
  },
  {
   "cell_type": "code",
   "execution_count": 54,
   "metadata": {},
   "outputs": [],
   "source": [
    "# fig = plt.figure()\n",
    "# bins=np.histogram(np.hstack((delta_vis,delta_data)), bins=50)[1]\n",
    "# plt.hist(delta_data,bins,alpha=0.3,label='delta_data',histtype='stepfilled');\n",
    "# plt.hist(delta_vis,bins,alpha=0.3,label='delta_vis',histtype='stepfilled');\n",
    "# plt.legend()"
   ]
  },
  {
   "cell_type": "markdown",
   "metadata": {},
   "source": [
    "Now the two distributions look much similar.\n",
    "And only 0.4% of observations had to be clamped to 1."
   ]
  },
  {
   "cell_type": "code",
   "execution_count": 55,
   "metadata": {},
   "outputs": [],
   "source": [
    "# len(np.where(delta_data == 1.0)[0]) / len(delta_data) "
   ]
  },
  {
   "cell_type": "markdown",
   "metadata": {},
   "source": [
    "Here is plot with the two histograms and a scatter plot in the middle linking the two variables."
   ]
  },
  {
   "cell_type": "code",
   "execution_count": 56,
   "metadata": {},
   "outputs": [],
   "source": [
    "# from matplotlib.gridspec import GridSpec\n",
    "\n",
    "# fig = plt.figure()\n",
    "\n",
    "# gs = GridSpec(4,4)\n",
    "\n",
    "# ax_joint = fig.add_subplot(gs[1:4,0:3])\n",
    "# ax_marg_x = fig.add_subplot(gs[0,0:3])\n",
    "# ax_marg_y = fig.add_subplot(gs[1:4,3])\n",
    "\n",
    "# bins = np.histogram(np.hstack((delta_vis,delta_data)), bins=50)[1]\n",
    "\n",
    "# ax_joint.scatter(delta_data, delta_vis, alpha=0.01)\n",
    "# ax_marg_x.hist(delta_data, bins)\n",
    "# ax_marg_y.hist(delta_vis, bins, orientation=\"horizontal\")\n",
    "\n",
    "# # Turn off tick labels on marginals\n",
    "# plt.setp(ax_marg_x.get_xticklabels(), visible=False)\n",
    "# plt.setp(ax_marg_y.get_yticklabels(), visible=False)\n",
    "\n",
    "# # Set limits\n",
    "# ax_joint.set_xlim([0,1])\n",
    "# ax_joint.set_ylim([0,1])\n",
    "# ax_marg_x.set_xlim([0,1])\n",
    "# ax_marg_y.set_ylim([0,1])\n",
    "\n",
    "# # Set labels on joint\n",
    "# ax_joint.set_xlabel('Delta data')\n",
    "# ax_joint.set_ylabel('Delta vis')\n",
    "\n",
    "# # Set labels on marginals\n",
    "# ax_marg_y.set_xlabel('Delta data hist')\n",
    "# ax_marg_x.set_ylabel('Delta vis hist')"
   ]
  },
  {
   "cell_type": "code",
   "execution_count": 57,
   "metadata": {},
   "outputs": [],
   "source": [
    "# Just defining the styling of the plot, don't mind this\n",
    "def styleBoxplot(bp, ax, n_revisions):\n",
    "    \n",
    "    def get_ax_size(ax):\n",
    "        bbox = ax.get_window_extent().transformed(fig.dpi_scale_trans.inverted())\n",
    "        width, height = bbox.width, bbox.height\n",
    "        width *= fig.dpi\n",
    "        height *= fig.dpi\n",
    "        return width, height\n",
    "    \n",
    "    for box in bp['boxes']:\n",
    "        # change outline color\n",
    "        box.set(color='#1b9e77', linewidth=0)\n",
    "        # change fill color\n",
    "        box.set(facecolor='#1b9e77')\n",
    "        box.set_zorder(10)\n",
    "    for i, median in enumerate(bp['medians']):\n",
    "        median.set(color='#1445FF', linewidth=2, ms=(get_ax_size(ax)[0])/(n_revisions))\n",
    "        median.set_zorder(11)\n",
    "        median.set_xdata([i + 1 - 0.3, i + 1 + 0.3])\n",
    "    for whisker in bp['whiskers']:\n",
    "        whisker.set(color='#CCCCCC', linestyle='-', linewidth=(get_ax_size(ax)[0])/(n_revisions))\n",
    "    for cap in bp['caps']:\n",
    "        cap.set(color='#FFFFFF', linewidth=0)\n",
    "        \n",
    "    # ax.set_ylim([0, 1])\n",
    "    \n",
    "    # Set only 3 ticks on x\n",
    "    ax.set_xticks([1, n_revisions / 2, n_revisions], minor=False)\n",
    "    ax.set_xticklabels([1, int(n_revisions / 2), n_revisions], fontdict=None, minor=False)\n",
    "    \n",
    "    # Remove extra spines and ticks\n",
    "    ax.spines['top'].set_visible(False)\n",
    "    ax.spines['right'].set_visible(False)\n",
    "    ax.spines['left'].set_zorder(20)\n",
    "    ax.spines['bottom'].set_zorder(20)\n",
    "    ax.tick_params(axis='x', which='both', top='off', direction='out')\n",
    "    ax.tick_params(axis='y', which='both', right='off', direction='out')\n",
    "\n",
    "def cm2inch(value):\n",
    "    return value/2.54"
   ]
  },
  {
   "cell_type": "markdown",
   "metadata": {},
   "source": [
    "Let's now take these delta_vis and delta_data values and plut them int the new stability definition.\n",
    "\n",
    "For a cell i,  stability_i = delta_data_i / max(delta_data_i, delta_vis_i)\n",
    "\n",
    "Where delta_vis_i is the normalized 4 corner distance travel of cell i.\n",
    "And delta_data is the relative weight change of an item, multiplied by K, clamped to the range [0, 1].\n",
    "\n",
    "Here are the results over the 97 revisions of the exo dataset on all techniques:"
   ]
  },
  {
   "cell_type": "code",
   "execution_count": 58,
   "metadata": {},
   "outputs": [],
   "source": [
    "# def q_ratio(df):\n",
    "#     # Create a df with columns delta_vis and delta_data\n",
    "#     df['q_ratio'] = df['delta_data'] / df[['delta_data', 'delta_vis']].max(axis=1)\n",
    "#     return df[['q_ratio']]"
   ]
  },
  {
   "cell_type": "code",
   "execution_count": 59,
   "metadata": {
    "scrolled": false
   },
   "outputs": [
    {
     "data": {
      "image/png": "[encoded data removed]",
      "text/plain": [
       "<matplotlib.figure.Figure at 0x7f4fe26abba8>"
      ]
     },
     "metadata": {},
     "output_type": "display_data"
    }
   ],
   "source": [
    "technique_list = Parser.list_techniques()\n",
    "nrow = 5\n",
    "ncol = 2\n",
    "fig, axs = plt.subplots(nrow, ncol, sharex=True, sharey=True, figsize=(cm2inch(20), cm2inch(2*22)))\n",
    "fig.tight_layout()\n",
    "for i, ax in enumerate(fig.axes):\n",
    "    if i == 10:\n",
    "        break\n",
    "        \n",
    "    ax.set_title(technique_list[i].upper())\n",
    "\n",
    "    data = []\n",
    "    history = Parser.parse_rectangles(technique_list[i], dataset_id)\n",
    "    for i in range(1, len(history)):\n",
    "        df = TemporalMetrics.delta_vis(history[i - 1], history[i])\n",
    "        df = pd.merge(df, TemporalMetrics.delta_data_by_area(history[i - 1], history[i]), left_index=True, right_index=True)\n",
    "        df = pd.merge(df, TemporalMetrics.relative_weight(history[i - 1], history[i]), left_index=True, right_index=True)\n",
    "        \n",
    "        df['delta_data'] = df['delta_data'] * K\n",
    "        df['delta_data'] = df['delta_data'].clip(0,1)\n",
    "        \n",
    "        df_stab = TemporalMetrics.q_ratio(df)\n",
    "        data.append(df_stab.values)\n",
    "\n",
    "    bp = ax.boxplot(data, whis=[5, 95], showfliers=False, patch_artist=True, widths=1);\n",
    "    \n",
    "    ax.set_ylim(ymin=-0.05, ymax=1)\n",
    "    ax.set_yticks([0, .25, .5, .75, 1], minor=False)\n",
    "    ax.set_yticklabels([0, .25, .5, .75, 1], fontdict=None, minor=False)\n",
    "    styleBoxplot(bp, ax, len(data))\n",
    "\n",
    "# # fig.savefig('time/svg/' + dataset_id + '_stab.svg', format='svg', dpi=1200)"
   ]
  },
  {
   "cell_type": "code",
   "execution_count": 60,
   "metadata": {},
   "outputs": [
    {
     "data": {
      "image/png": "[encoded data removed]",
      "text/plain": [
       "<matplotlib.figure.Figure at 0x7f4fe388d9e8>"
      ]
     },
     "metadata": {},
     "output_type": "display_data"
    }
   ],
   "source": [
    "technique_list = Parser.list_techniques()\n",
    "nrow = 5\n",
    "ncol = 2\n",
    "fig, axs = plt.subplots(nrow, ncol, sharex=True, sharey=True, figsize=(cm2inch(20), cm2inch(2*22)))\n",
    "fig.tight_layout()\n",
    "for i, ax in enumerate(fig.axes):\n",
    "    if i == 10:\n",
    "        break\n",
    "        \n",
    "    ax.set_title(technique_list[i].upper())\n",
    "\n",
    "    data = []\n",
    "    history = Parser.parse_rectangles(technique_list[i], dataset_id)\n",
    "    for i in range(1, len(history)):\n",
    "        df = TemporalMetrics.delta_vis(history[i - 1], history[i])\n",
    "        df = pd.merge(df, TemporalMetrics.delta_data_by_area(history[i - 1], history[i]), left_index=True, right_index=True)\n",
    "        df = pd.merge(df, TemporalMetrics.relative_weight(history[i - 1], history[i]), left_index=True, right_index=True)\n",
    "        \n",
    "#         df['delta_data'] = df['delta_data'] * K\n",
    "#         df['delta_data'] = df['delta_data'].clip(0,1)\n",
    "        \n",
    "        df_stab = TemporalMetrics.q_1_minus_ratio(df)\n",
    "        data.append(df_stab.values)\n",
    "\n",
    "    bp = ax.boxplot(data, whis=[5, 95], showfliers=False, patch_artist=True, widths=1);\n",
    "    \n",
    "    ax.set_ylim(ymin=-0.05, ymax=1)\n",
    "    ax.set_yticks([0, .25, .5, .75, 1], minor=False)\n",
    "    ax.set_yticklabels([0, .25, .5, .75, 1], fontdict=None, minor=False)\n",
    "    styleBoxplot(bp, ax, len(data))\n",
    "\n",
    "# # fig.savefig('time/svg/' + dataset_id + '_stab.svg', format='svg', dpi=1200)"
   ]
  },
  {
   "cell_type": "code",
   "execution_count": 61,
   "metadata": {},
   "outputs": [],
   "source": [
    "# history = Parser.parse_rectangles('snd', dataset_id)\n",
    "# #for i in range(1, len(history)):\n",
    "# i = 20\n",
    "# df = TemporalMetrics.delta_vis(history[i - 1], history[i])\n",
    "# df = pd.merge(df, TemporalMetrics.delta_data_by_area(history[i - 1], history[i]), left_index=True, right_index=True)\n",
    "# df = pd.merge(df, TemporalMetrics.relative_weight(history[i - 1], history[i]), left_index=True, right_index=True)\n",
    "\n",
    "# df['delta_data'] = df['delta_data'] * K\n",
    "# df['delta_data'] = df['delta_data'].clip(0,1)\n",
    "\n",
    "# df_stab = TemporalMetrics.q_ratio(df)\n",
    "# df"
   ]
  },
  {
   "cell_type": "code",
   "execution_count": 62,
   "metadata": {},
   "outputs": [],
   "source": [
    "# M = 2  # Number of metrics\n",
    "\n",
    "# technique_list = Parser.list_techniques()\n",
    "# nrow = 6\n",
    "# ncol = 2\n",
    "# fig, axs = plt.subplots(nrow, ncol, sharex=True, sharey=True, figsize=(cm2inch(20), cm2inch(2*22)))\n",
    "# fig.tight_layout()\n",
    "# for i, ax in enumerate(fig.axes):\n",
    "#     ax.set_title(technique_list[i].upper())\n",
    "#     statistics_list = []  # 5%, first quartile, median, third quartile, 95% statistics lists\n",
    "\n",
    "\n",
    "#     history = Parser.parse_rectangles(technique_list[i], dataset_id)\n",
    "#     for i in range(1, len(history)):\n",
    "#         df = TemporalMetrics.delta_vis(history[i - 1], history[i])\n",
    "#         df = pd.merge(df, TemporalMetrics.delta_data_by_area(history[i - 1], history[i]), left_index=True, right_index=True)\n",
    "#         df = pd.merge(df, TemporalMetrics.relative_weight(history[i - 1], history[i]), left_index=True, right_index=True)\n",
    "#         N = len(df)\n",
    "\n",
    "#         df['delta_data'] = df['delta_data'] * K\n",
    "#         df['delta_data'] = df['delta_data'].clip(0,1)\n",
    "#         TemporalMetrics.q_ratio(df)\n",
    "#         df_w = df.copy()\n",
    "\n",
    "#         df = df.assign(weight = pd.Series(1 /(N * M), index=df.index))\n",
    "\n",
    "#         df_w = df_w.assign(weight = pd.Series(df_w['weight'] / M, index=df.index))\n",
    "\n",
    "#         df_rev = pd.concat([df, df_w]) \n",
    "        \n",
    "# #         print(df_rev['weight'].sum())  # Sum is 1    \n",
    "# #         print(df_rev['weight'])    \n",
    "        \n",
    "#         df_rev = df_rev.sort_values(by='q_ratio')\n",
    "#         df_rev['weight'] = df_rev['weight'].cumsum()\n",
    "        \n",
    "        \n",
    "#             # 5%, first quartile, median, third quartile, 95%\n",
    "#         f = fq = median = tq = nf = float(\"nan\") \n",
    "#         for i, row in df_rev.iterrows():\n",
    "#             if row['weight'] >= 0.05 and math.isnan(f):\n",
    "#                 f = row['q_ratio']\n",
    "#             if row['weight'] >= 0.25 and math.isnan(fq):\n",
    "#                 fq = row['q_ratio']\n",
    "#             if row['weight'] >= 0.5 and math.isnan(median):\n",
    "#                 median = row['q_ratio']\n",
    "#             if row['weight'] >= 0.75 and math.isnan(tq):\n",
    "#                 tq = row['q_ratio']\n",
    "#             if row['weight'] >= 0.95 and math.isnan(nf):\n",
    "#                 nf = row['q_ratio']\n",
    "            \n",
    "#         item = {}\n",
    "#         item[\"med\"] = median\n",
    "#         item[\"q1\"] = fq\n",
    "#         item[\"q3\"] = tq\n",
    "#         item[\"whislo\"] = f\n",
    "#         item[\"whishi\"] = nf\n",
    "#         item[\"fliers\"] = []\n",
    "#         statistics_list.append(item)\n",
    "\n",
    "        \n",
    "\n",
    "#     bp = ax.bxp(statistics_list, patch_artist=True, widths=1);\n",
    "#     styleBoxplot(bp, ax, len(history))    \n",
    "\n",
    "#     ax.set_ylim(ymin=-0.05)\n",
    "#     ax.set_yticks([0, .25, .5, .75, 1], minor=False)\n",
    "#     ax.set_yticklabels([0, .25, .5, .75, 1], fontdict=None, minor=False)\n",
    "    \n",
    "# # # fig.savefig('time/svg/' + dataset_id + '_stab.svg', format='svg', dpi=1200)"
   ]
  },
  {
   "cell_type": "code",
   "execution_count": 63,
   "metadata": {},
   "outputs": [
    {
     "data": {
      "image/png": "[encoded data removed]",
      "text/plain": [
       "<matplotlib.figure.Figure at 0x7f4fe38de518>"
      ]
     },
     "metadata": {},
     "output_type": "display_data"
    }
   ],
   "source": [
    "technique_list = Parser.list_techniques()\n",
    "nrow = 5\n",
    "ncol = 2\n",
    "fig, axs = plt.subplots(nrow, ncol, sharex=True, sharey=True, figsize=(cm2inch(20), cm2inch(2*22)))\n",
    "fig.tight_layout()\n",
    "for i, ax in enumerate(fig.axes):\n",
    "    if i == 10:\n",
    "        break\n",
    "        \n",
    "    ax.set_title(technique_list[i].upper())\n",
    "\n",
    "    data = []\n",
    "    history = Parser.parse_rectangles(technique_list[i], dataset_id)\n",
    "    for i in range(1, len(history)):\n",
    "        df = SpatialMetrics.q_ar(history[i])\n",
    "        data.append(df['q_ar'].values)\n",
    "\n",
    "    bp = ax.boxplot(data, whis=[5, 95], showfliers=False, patch_artist=True, widths=1);\n",
    "    \n",
    "    ax.set_ylim(ymin=-0.05, ymax=1)\n",
    "    ax.set_yticks([0, .25, .5, .75, 1], minor=False)\n",
    "    ax.set_yticklabels([0, .25, .5, .75, 1], fontdict=None, minor=False)\n",
    "    styleBoxplot(bp, ax, len(data))\n",
    "\n",
    "# # fig.savefig('time/svg/' + dataset_id + '_stab.svg', format='svg', dpi=1200)"
   ]
  }
 ],
 "metadata": {
  "celltoolbar": "Tags",
  "kernelspec": {
   "display_name": "Python 3",
   "language": "python",
   "name": "python3"
  },
  "language_info": {
   "codemirror_mode": {
    "name": "ipython",
    "version": 3
   },
   "file_extension": ".py",
   "mimetype": "text/x-python",
   "name": "python",
   "nbconvert_exporter": "python",
   "pygments_lexer": "ipython3",
   "version": "3.5.2"
  }
 },
 "nbformat": 4,
 "nbformat_minor": 1
}
