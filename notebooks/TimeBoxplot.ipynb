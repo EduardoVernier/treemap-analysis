{
 "cells": [
  {
   "cell_type": "code",
   "execution_count": 1,
   "metadata": {},
   "outputs": [],
   "source": [
    "%matplotlib inline\n",
    "import numpy as np\n",
    "import pandas as pd\n",
    "import matplotlib.pyplot as plt\n",
    "from scipy import stats\n",
    "import sys\n",
    "import math\n",
    "sys.path.append('/home/eduardo/PycharmProjects/treemap-analysis/code')\n",
    "\n",
    "import Parser\n",
    "import SpatialMetrics\n",
    "import TemporalMetrics"
   ]
  },
  {
   "cell_type": "code",
   "execution_count": 2,
   "metadata": {
    "tags": [
     "parameters"
    ]
   },
   "outputs": [],
   "source": [
    "dataset_id = 'exo'"
   ]
  },
  {
   "cell_type": "code",
   "execution_count": 68,
   "metadata": {},
   "outputs": [],
   "source": [
    "def styleBoxplot(bp, ax, n_revisions):\n",
    "    \n",
    "    def get_ax_size(ax):\n",
    "        bbox = ax.get_window_extent().transformed(fig.dpi_scale_trans.inverted())\n",
    "        width, height = bbox.width, bbox.height\n",
    "        width *= fig.dpi\n",
    "        height *= fig.dpi\n",
    "        return width, height\n",
    "    \n",
    "    for box in bp['boxes']:\n",
    "        # change outline color\n",
    "        box.set(color='#1b9e77', linewidth=0)\n",
    "        # change fill color\n",
    "        box.set(facecolor='#1b9e77')\n",
    "        box.set_zorder(10)\n",
    "    for i, median in enumerate(bp['medians']):\n",
    "        median.set(color='#1445FF', linewidth=2, ms=(get_ax_size(ax)[0])/(n_revisions))\n",
    "        median.set_zorder(11)\n",
    "        median.set_xdata([i + 1 - 0.3, i + 1 + 0.3])\n",
    "    for whisker in bp['whiskers']:\n",
    "        whisker.set(color='#CCCCCC', linestyle='-', linewidth=(get_ax_size(ax)[0])/(n_revisions))\n",
    "    for cap in bp['caps']:\n",
    "        cap.set(color='#FFFFFF', linewidth=0)\n",
    "        \n",
    "    ax.set_ylim([0, 1])\n",
    "    \n",
    "    # Set only 3 ticks on x\n",
    "    ax.set_xticks([1, n_revisions / 2, n_revisions], minor=False)\n",
    "    ax.set_xticklabels([1, int(n_revisions / 2), n_revisions], fontdict=None, minor=False)\n",
    "    \n",
    "    # Remove extra spines and ticks\n",
    "    ax.spines['top'].set_visible(False)\n",
    "    ax.spines['right'].set_visible(False)\n",
    "    ax.spines['left'].set_zorder(20)\n",
    "    ax.spines['bottom'].set_zorder(20)\n",
    "    ax.tick_params(axis='x', which='both', top='off', direction='out')\n",
    "    ax.tick_params(axis='y', which='both', right='off', direction='out')\n"
   ]
  },
  {
   "cell_type": "code",
   "execution_count": 4,
   "metadata": {},
   "outputs": [],
   "source": [
    "def cm2inch(value):\n",
    "    return value/2.54"
   ]
  },
  {
   "cell_type": "markdown",
   "metadata": {},
   "source": [
    "# Aggregated spatial metric boxplots\n",
    "How to Aggregate Q_ar and Q_weighted_ar in barplot statistics? 5%, 25%, 50% (median), 75%, 95%.\n",
    "\n",
    "Just averaging items doesn't work. See below."
   ]
  },
  {
   "cell_type": "code",
   "execution_count": 71,
   "metadata": {},
   "outputs": [
    {
     "data": {
      "image/png": "[encoded data removed]",
      "text/plain": [
       "<matplotlib.figure.Figure at 0x7ffb01fd6128>"
      ]
     },
     "metadata": {},
     "output_type": "display_data"
    }
   ],
   "source": [
    "fig = plt.figure()\n",
    "ax = plt.gca()\n",
    "ax.set_title('sqr'.upper())\n",
    "\n",
    "M = 2  # Number of metrics\n",
    "\n",
    "# 5%, first quartile, median, third quartile, 95% statistics lists\n",
    "statistics_list = []\n",
    "\n",
    "history = Parser.parse_rectangles('sqr', dataset_id)\n",
    "for i, df in enumerate(history):\n",
    "    N = len(df)\n",
    "    \n",
    "    df_ar = SpatialMetrics.q_ar(df)\n",
    "    df_ar = df_ar.assign(weight = pd.Series(1 /(N * M), index=df.index))\n",
    "    #print(df_ar)\n",
    "    \n",
    "    \n",
    "    df_w_ar = SpatialMetrics.q_ar(df)\n",
    "    df_w_ar = pd.merge(df_w_ar, SpatialMetrics.weight(df), left_index=True, right_index=True)\n",
    "    df_w_ar = df_ar.assign(weight = pd.Series(df_w_ar['weight'] / M, index=df.index))\n",
    "    #print(df_w_ar)\n",
    "    \n",
    "    df_rev = pd.concat([df_ar, df_w_ar]) \n",
    "    #print(df_rev['weight'].sum())  # Sum is 1    \n",
    "    \n",
    "    df_rev = df_rev.sort_values(by='q_ar')\n",
    "    df_rev['weight'] = df_rev['weight'].cumsum()\n",
    "    # print(df_rev)\n",
    "    \n",
    "    # 5%, first quartile, median, third quartile, 95%\n",
    "    f = fq = median = tq = nf = float(\"nan\") \n",
    "    for i, row in df_rev.iterrows():\n",
    "        if row['weight'] >= 0.05 and math.isnan(f):\n",
    "            f = row['q_ar']\n",
    "        if row['weight'] >= 0.25 and math.isnan(fq):\n",
    "            fq = row['q_ar']\n",
    "        if row['weight'] >= 0.5 and math.isnan(median):\n",
    "            median = row['q_ar']\n",
    "        if row['weight'] >= 0.75 and math.isnan(tq):\n",
    "            tq = row['q_ar']\n",
    "        if row['weight'] >= 0.95 and math.isnan(nf):\n",
    "            nf = row['q_ar']\n",
    "            \n",
    "    item = {}\n",
    "    item[\"med\"] = median\n",
    "    item[\"q1\"] = fq\n",
    "    item[\"q3\"] = tq\n",
    "    item[\"whislo\"] = f\n",
    "    item[\"whishi\"] = nf\n",
    "    item[\"fliers\"] = []\n",
    "    statistics_list.append(item)\n",
    "    \n",
    "    \n",
    "bp = ax.bxp(statistics_list, patch_artist=True, widths=1);\n",
    "styleBoxplot(bp, ax, len(data))"
   ]
  },
  {
   "cell_type": "code",
   "execution_count": null,
   "metadata": {
    "scrolled": false
   },
   "outputs": [],
   "source": [
    "technique_list = Parser.list_techniques()\n",
    "nrow = 7\n",
    "ncol = 2\n",
    "fig, axs = plt.subplots(nrow, ncol, sharex=True, sharey=True, figsize=(cm2inch(20), cm2inch(2*22)))\n",
    "fig.delaxes(axs[6, 1])\n",
    "fig.tight_layout()\n",
    "\n",
    "for i, ax in enumerate(fig.axes):\n",
    "    ax.set_title(technique_list[i].upper())\n",
    "    \n",
    "    data = []\n",
    "    history = Parser.parse_rectangles(technique_list[i], dataset_id)\n",
    "    for i, df in enumerate(history):\n",
    "        df_ar = SpatialMetrics.q_ar(df)\n",
    "        df_ar = pd.merge(df_ar, SpatialMetrics.q_weighted_ar(df), left_index=True, right_index=True)\n",
    "        \n",
    "    bp = ax.boxplot(data, whis=[5, 95], showfliers=False, patch_artist=True, widths=1);\n",
    "    styleBoxplot(bp, ax, len(data))\n",
    "\n",
    "    ax.set_ylim([0, 1])\n",
    "    ax.set_yticks([0, .25, .5, .75, 1], minor=False)\n",
    "    ax.set_yticklabels([0, .25, .5, .75, 1], fontdict=None, minor=False)\n",
    " \n",
    "#fig.savefig('time/svg/' + dataset_id + '_spatial.svg', format='svg', dpi=1200)"
   ]
  },
  {
   "cell_type": "markdown",
   "metadata": {},
   "source": [
    "# Aggregated stability metrics boxplots\n",
    "Weighted and unweighted ratio metrics using the corner travel dist as delta_vis"
   ]
  },
  {
   "cell_type": "code",
   "execution_count": null,
   "metadata": {},
   "outputs": [],
   "source": [
    "# technique_list = Parser.list_techniques()\n",
    "# nrow = 7\n",
    "# ncol = 2\n",
    "# fig, axs = plt.subplots(nrow, ncol, sharex=True, sharey=True, figsize=(cm2inch(20), cm2inch(2*22)))\n",
    "# fig.delaxes(axs[6, 1])\n",
    "# fig.tight_layout()\n",
    "# for i, ax in enumerate(fig.axes):\n",
    "#     ax.set_title(technique_list[i].upper())\n",
    "\n",
    "#     data = []\n",
    "#     history = Parser.parse_rectangles(technique_list[i], dataset_id)\n",
    "#     for i in range(1, len(history)):\n",
    "#         df = TemporalMetrics.delta_vis(history[i - 1], history[i])\n",
    "#         df = pd.merge(df, TemporalMetrics.delta_data_by_area(history[i - 1], history[i]), left_index=True, right_index=True)\n",
    "#         df = pd.merge(df, TemporalMetrics.relative_weight(history[i - 1], history[i]), left_index=True, right_index=True)\n",
    "\n",
    "#         df_stab = TemporalMetrics.q_ratio(df)\n",
    "#         df_stab = pd.merge(df_stab, TemporalMetrics.q_weighted_ratio(df), left_index=True, right_index=True)\n",
    "        \n",
    "#         column = 't' + str(i)\n",
    "#         data.append(df_stab.mean(axis=1))\n",
    "\n",
    "#     bp = ax.boxplot(data, whis=[5, 95], showfliers=False, patch_artist=True, widths=1);\n",
    "    \n",
    "#     ax.set_ylim(ymin=-0.05)\n",
    "#     ax.set_yticks([0, .25, .5, .75], minor=False)\n",
    "#     ax.set_yticklabels([0, .25, .5, .75], fontdict=None, minor=False)\n",
    "#     styleBoxplot(bp, ax, len(data))\n",
    "\n",
    "# # fig.savefig('time/svg/' + dataset_id + '_stab.svg', format='svg', dpi=1200)"
   ]
  },
  {
   "cell_type": "code",
   "execution_count": null,
   "metadata": {},
   "outputs": [],
   "source": []
  },
  {
   "cell_type": "code",
   "execution_count": null,
   "metadata": {},
   "outputs": [],
   "source": []
  }
 ],
 "metadata": {
  "celltoolbar": "Tags",
  "kernelspec": {
   "display_name": "Python 3",
   "language": "python",
   "name": "python3"
  },
  "language_info": {
   "codemirror_mode": {
    "name": "ipython",
    "version": 3
   },
   "file_extension": ".py",
   "mimetype": "text/x-python",
   "name": "python",
   "nbconvert_exporter": "python",
   "pygments_lexer": "ipython3",
   "version": "3.5.2"
  }
 },
 "nbformat": 4,
 "nbformat_minor": 1
}
