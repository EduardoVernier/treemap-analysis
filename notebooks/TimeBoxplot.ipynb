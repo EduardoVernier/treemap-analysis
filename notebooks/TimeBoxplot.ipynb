{
 "cells": [
  {
   "cell_type": "code",
   "execution_count": null,
   "metadata": {},
   "outputs": [],
   "source": [
    "%matplotlib inline\n",
    "import numpy as np\n",
    "import pandas as pd\n",
    "import matplotlib.pyplot as plt\n",
    "from scipy import stats\n",
    "import sys\n",
    "import math\n",
    "sys.path.append('/home/eduardo/PycharmProjects/treemap-analysis/code')\n",
    "\n",
    "import Parser\n",
    "import SpatialMetrics\n",
    "import TemporalMetrics"
   ]
  },
  {
   "cell_type": "code",
   "execution_count": null,
   "metadata": {
    "tags": [
     "parameters"
    ]
   },
   "outputs": [],
   "source": [
    "dataset_id = 'exports'"
   ]
  },
  {
   "cell_type": "code",
   "execution_count": null,
   "metadata": {},
   "outputs": [],
   "source": [
    "df = SpatialMetrics.aggregated_ar('git', dataset_id)\n",
    "n_revisions = df.shape[0]\n",
    "\n",
    "data = []\n",
    "for r in df.as_matrix():\n",
    "    data.append(r[~np.isnan(r)])"
   ]
  },
  {
   "cell_type": "code",
   "execution_count": null,
   "metadata": {},
   "outputs": [],
   "source": [
    "def styleBoxplot(bp, ax):\n",
    "    # change outline color, fill color and linewidth of the boxes\n",
    "    for box in bp['boxes']:\n",
    "        # change outline color\n",
    "        box.set(color='#AAAAAA', linewidth=.1)\n",
    "        # change fill color\n",
    "        box.set(facecolor='#AAAAAA')\n",
    "    for median in bp['medians']:\n",
    "        median.set(color='#000000', linewidth=1)\n",
    "    for whisker in bp['whiskers']:\n",
    "        whisker.set(color='#666666', linestyle='-')\n",
    "    for cap in bp['caps']:\n",
    "        cap.set(color='#FFFFFF', linewidth=0)\n",
    "        \n",
    "    # Set only 3 ticks\n",
    "    ax.set_xticks([1, n_revisions / 2, n_revisions], minor=False)\n",
    "    ax.set_xticklabels([1, int(n_revisions / 2), n_revisions], fontdict=None, minor=False)\n",
    "    \n",
    "    ax.spines['top'].set_visible(False)\n",
    "    ax.spines['right'].set_visible(False)\n",
    "\n",
    "    ax.tick_params(axis='x', which='both', top='off')\n",
    "    ax.tick_params(axis='y', which='both', right='off', left='off')"
   ]
  },
  {
   "cell_type": "code",
   "execution_count": null,
   "metadata": {
    "scrolled": true
   },
   "outputs": [],
   "source": [
    "fig = plt.figure()\n",
    "bp = plt.boxplot(data, whis=[5, 95], showfliers=False, patch_artist=True, meanline=True, widths = 1);\n",
    "styleBoxplot(bp, plt.gca())\n",
    "plt.title('git')"
   ]
  },
  {
   "cell_type": "code",
   "execution_count": null,
   "metadata": {},
   "outputs": [],
   "source": [
    "def cm2inch(value):\n",
    "    return value/2.54"
   ]
  },
  {
   "cell_type": "markdown",
   "metadata": {},
   "source": [
    "# Aspect ratio boxplots"
   ]
  },
  {
   "cell_type": "code",
   "execution_count": null,
   "metadata": {
    "scrolled": false
   },
   "outputs": [],
   "source": [
    "technique_list = Parser.list_techniques()\n",
    "nrow = 7\n",
    "ncol = 2\n",
    "fig, axs = plt.subplots(nrow, ncol, sharex=True, sharey=True, figsize=(cm2inch(20), cm2inch(2*22)))\n",
    "fig.delaxes(axs[6, 1])\n",
    "for i, ax in enumerate(fig.axes):\n",
    "    if i < len(technique_list):\n",
    "        ax.set_title(technique_list[i])\n",
    "        df = SpatialMetrics.aggregated_ar(technique_list[i], dataset_id)\n",
    "\n",
    "        data = []\n",
    "        for r in df.as_matrix():\n",
    "            data.append(r[~np.isnan(r)])\n",
    "\n",
    "        bp = ax.boxplot(data, whis=[5, 95], showfliers=False, patch_artist=True, meanline=True);\n",
    "        styleBoxplot(bp, ax)\n",
    "        \n",
    "        ax.set_ylim([0, .75])\n",
    "        ax.set_yticks([0, .25, .5, .75], minor=False)\n",
    "        ax.set_yticklabels([0, .25, .5, .75], fontdict=None, minor=False)\n",
    "\n",
    "fig.tight_layout()"
   ]
  },
  {
   "cell_type": "markdown",
   "metadata": {},
   "source": [
    "# Stability boxplots\n",
    "Unweighted Pearson correlation coefficient in red"
   ]
  },
  {
   "cell_type": "code",
   "execution_count": null,
   "metadata": {},
   "outputs": [],
   "source": [
    "technique_list = Parser.list_techniques()\n",
    "nrow = 7\n",
    "ncol = 2\n",
    "fig, axs = plt.subplots(nrow, ncol, sharex=True, sharey=True, figsize=(cm2inch(20), cm2inch(2*22)))\n",
    "fig.delaxes(axs[6, 1])\n",
    "for i, ax in enumerate(fig.axes):\n",
    "    ax.set_title(technique_list[i])\n",
    "    df, pearson, weighted_pearson = TemporalMetrics.aggregated_stab(technique_list[i], dataset_id)\n",
    "\n",
    "    data = []\n",
    "    for r in df.as_matrix():\n",
    "        data.append(r[~np.isnan(r)])\n",
    "\n",
    "    bp = ax.boxplot(data, whis=[5, 95], showfliers=False, patch_artist=True, meanline=True);\n",
    "    styleBoxplot(bp, ax)\n",
    "    \n",
    "    x = [i for i in range(len(pearson))]\n",
    "    ax.plot(x, pearson, 'r_', ms=4)\n",
    "     \n",
    "fig.tight_layout()"
   ]
  },
  {
   "cell_type": "code",
   "execution_count": null,
   "metadata": {},
   "outputs": [],
   "source": []
  }
 ],
 "metadata": {
  "kernelspec": {
   "display_name": "Python 3",
   "language": "python",
   "name": "python3"
  },
  "language_info": {
   "codemirror_mode": {
    "name": "ipython",
    "version": 3
   },
   "file_extension": ".py",
   "mimetype": "text/x-python",
   "name": "python",
   "nbconvert_exporter": "python",
   "pygments_lexer": "ipython3",
   "version": "3.5.2"
  }
 },
 "nbformat": 4,
 "nbformat_minor": 1
}
