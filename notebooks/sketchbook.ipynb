{
 "cells": [
  {
   "cell_type": "code",
   "execution_count": 27,
   "metadata": {},
   "outputs": [],
   "source": [
    "%matplotlib inline\n",
    "import numpy as np\n",
    "import pandas as pd\n",
    "import sys\n",
    "import scipy\n",
    "import math\n",
    "sys.path.append('/home/eduardo/PycharmProjects/treemap-analysis/code')\n",
    "\n",
    "import Parser\n",
    "import TemporalMetrics"
   ]
  },
  {
   "cell_type": "code",
   "execution_count": 29,
   "metadata": {},
   "outputs": [],
   "source": [
    "def point_hyperbole_dist(x, w, h, a):\n",
    "    # Distance between a point (w,h) and a hyperbole y = a/4x where a is the area we are trying to reach\n",
    "    return math.sqrt((x - w/2)**2 + (a/(4*x) - h/2)**2)"
   ]
  },
  {
   "cell_type": "code",
   "execution_count": 34,
   "metadata": {},
   "outputs": [
    {
     "data": {
      "text/plain": [
       "      fun: 0.2612562949467907\n",
       " hess_inv: array([[ 0.05468903]])\n",
       "      jac: array([  3.90410423e-06])\n",
       "  message: 'Optimization terminated successfully.'\n",
       "     nfev: 24\n",
       "      nit: 5\n",
       "     njev: 8\n",
       "   status: 0\n",
       "  success: True\n",
       "        x: array([ 0.54106481])"
      ]
     },
     "execution_count": 34,
     "metadata": {},
     "output_type": "execute_result"
    }
   ],
   "source": [
    "# minimize (x-w/2)**2 + (a/(4*x) - h/2)**2, \n",
    "w = 0.63122\n",
    "h = 1.5842\n",
    "a = 2\n",
    "\n",
    "result = scipy.optimize.minimize(point_hyperbole_dist, x0=w, args=(w,h,a))\n",
    "result"
   ]
  },
  {
   "cell_type": "code",
   "execution_count": 35,
   "metadata": {},
   "outputs": [
    {
     "data": {
      "text/plain": [
       "1.0450251797871628"
      ]
     },
     "execution_count": 35,
     "metadata": {},
     "output_type": "execute_result"
    }
   ],
   "source": [
    "optimum_x = result.x[0]\n",
    "# Minimum corner travel is 4 times the minimum point-hyperbole distance\n",
    "min_dist = point_hyperbole_dist(optimum_x, w, h, a) * 4\n",
    "min_dist"
   ]
  }
 ],
 "metadata": {
  "kernelspec": {
   "display_name": "Python 3",
   "language": "python",
   "name": "python3"
  },
  "language_info": {
   "codemirror_mode": {
    "name": "ipython",
    "version": 3
   },
   "file_extension": ".py",
   "mimetype": "text/x-python",
   "name": "python",
   "nbconvert_exporter": "python",
   "pygments_lexer": "ipython3",
   "version": "3.5.2"
  }
 },
 "nbformat": 4,
 "nbformat_minor": 1
}
