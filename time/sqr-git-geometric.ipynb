{
 "cells": [
  {
   "cell_type": "code",
   "execution_count": 7,
   "metadata": {
    "papermill": {
     "duration": 0.625744,
     "end_time": "2017-11-27T14:09:53.066409",
     "exception": false,
     "start_time": "2017-11-27T14:09:52.440665",
     "status": "completed"
    },
    "tags": []
   },
   "outputs": [],
   "source": [
    "%matplotlib inline\n",
    "import numpy as np\n",
    "import pandas as pd\n",
    "import matplotlib.pyplot as plt\n",
    "from scipy import stats\n",
    "import sys\n",
    "import math\n",
    "sys.path.append('/home/eduardo/PycharmProjects/treemap-analysis/code')\n",
    "\n",
    "import Parser\n",
    "import SpatialMetrics\n",
    "import TemporalMetrics"
   ]
  },
  {
   "cell_type": "code",
   "execution_count": 8,
   "metadata": {
    "papermill": {
     "duration": 0.013605,
     "end_time": "2017-11-27T14:09:53.080447",
     "exception": false,
     "start_time": "2017-11-27T14:09:53.066842",
     "status": "completed"
    },
    "tags": [
     "parameters"
    ]
   },
   "outputs": [],
   "source": [
    "# Parameters\n",
    "dataset_id = \"gimp\"\n"
   ]
  },
  {
   "cell_type": "code",
   "execution_count": 9,
   "metadata": {
    "papermill": {
     "duration": 0.088579,
     "end_time": "2017-11-27T14:09:53.169123",
     "exception": false,
     "start_time": "2017-11-27T14:09:53.080544",
     "status": "completed"
    },
    "tags": []
   },
   "outputs": [],
   "source": [
    "def styleBoxplot(bp, ax, n_revisions):\n",
    "    \n",
    "    def get_ax_size(ax):\n",
    "        bbox = ax.get_window_extent().transformed(fig.dpi_scale_trans.inverted())\n",
    "        width, height = bbox.width, bbox.height\n",
    "        width *= fig.dpi\n",
    "        height *= fig.dpi\n",
    "        return width, height\n",
    "    \n",
    "    for box in bp['boxes']:\n",
    "        # change outline color\n",
    "        box.set(color='#1b9e77', linewidth=0)\n",
    "        # change fill color\n",
    "        box.set(facecolor='#1b9e77')\n",
    "        box.set_zorder(10)\n",
    "    for i, median in enumerate(bp['medians']):\n",
    "        median.set(color='#1445FF', linewidth=2, ms=(get_ax_size(ax)[0])/(n_revisions))\n",
    "        median.set_zorder(11)\n",
    "        median.set_xdata([i + 1 - 0.3, i + 1 + 0.3])\n",
    "    for whisker in bp['whiskers']:\n",
    "        whisker.set(color='#CCCCCC', linestyle='-', linewidth=(get_ax_size(ax)[0])/(n_revisions))\n",
    "    for cap in bp['caps']:\n",
    "        cap.set(color='#FFFFFF', linewidth=0)\n",
    "        \n",
    "    # Set only 3 ticks on x\n",
    "    ax.set_xticks([1, n_revisions / 2, n_revisions], minor=False)\n",
    "    ax.set_xticklabels([1, int(n_revisions / 2), n_revisions], fontdict=None, minor=False)\n",
    "    \n",
    "    # Remove extra spines and ticks\n",
    "    ax.spines['top'].set_visible(False)\n",
    "    ax.spines['right'].set_visible(False)\n",
    "    ax.tick_params(axis='x', which='both', top='off')\n",
    "    ax.tick_params(axis='y', which='both', right='off', left='off')"
   ]
  },
  {
   "cell_type": "code",
   "execution_count": 10,
   "metadata": {
    "papermill": {
     "duration": 0.016855,
     "end_time": "2017-11-27T14:09:53.186187",
     "exception": false,
     "start_time": "2017-11-27T14:09:53.169332",
     "status": "completed"
    },
    "tags": []
   },
   "outputs": [],
   "source": [
    "def cm2inch(value):\n",
    "    return value/2.54"
   ]
  },
  {
   "cell_type": "markdown",
   "metadata": {
    "papermill": {
     "duration": 2.7e-05,
     "end_time": "2017-11-27T14:09:53.186305",
     "exception": false,
     "start_time": "2017-11-27T14:09:53.186278",
     "status": "completed"
    },
    "tags": []
   },
   "source": [
    "# Aggregated spatial metric boxplots\n",
    "Aggregate Q_ar and Q_weighted_ar"
   ]
  },
  {
   "cell_type": "code",
   "execution_count": 11,
   "metadata": {
    "papermill": {
     "duration": 20.13991,
     "end_time": "2017-11-27T14:10:13.334464",
     "exception": false,
     "start_time": "2017-11-27T14:09:53.194554",
     "status": "completed"
    },
    "scrolled": false,
    "tags": []
   },
   "outputs": [
    {
     "data": {
      "image/png": "[encoded data removed]",
      "text/plain": [
       "<matplotlib.figure.Figure at 0x7fd8c8e235f8>"
      ]
     },
     "metadata": {},
     "output_type": "display_data"
    }
   ],
   "source": [
    "technique_list = ['sqr', 'sgi', 'git']\n",
    "nrow = 1\n",
    "ncol = 3\n",
    "fig, axs = plt.subplots(nrow, ncol, sharex=True, sharey=True, figsize=(cm2inch(30), cm2inch(8)))\n",
    "#fig.delaxes(axs[6, 1])\n",
    "fig.tight_layout()\n",
    "\n",
    "for i, ax in enumerate(fig.axes):\n",
    "    ax.set_title(technique_list[i].upper())\n",
    "    \n",
    "    data = []\n",
    "    history = Parser.parse_rectangles(technique_list[i], dataset_id)\n",
    "    for i, df in enumerate(history):\n",
    "        df_ar = SpatialMetrics.q_ar(df)\n",
    "        #df_ar = pd.merge(df_ar, SpatialMetrics.q_weighted_ar(df))\n",
    "        #column = 't' + str(i)\n",
    "        data.append(df_ar.mean(axis=1))\n",
    "    \n",
    "    bp = ax.boxplot(data, whis=[5, 95], showfliers=False, patch_artist=True, widths=1);\n",
    "    styleBoxplot(bp, ax, len(data))\n",
    "\n",
    "    ax.set_ylim([0, 1])\n",
    "    ax.set_yticks([0, .25, .5, .75, 1], minor=False)\n",
    "    ax.set_yticklabels([0, .25, .5, .75, 1], fontdict=None, minor=False)\n",
    " \n",
    "#fig.savefig('time/svg/' + dataset_id + '_spatial.svg', format='svg', dpi=1200)"
   ]
  },
  {
   "cell_type": "markdown",
   "metadata": {
    "papermill": {
     "duration": 2.3e-05,
     "end_time": "2017-11-27T14:10:13.334686",
     "exception": false,
     "start_time": "2017-11-27T14:10:13.334663",
     "status": "completed"
    },
    "tags": []
   },
   "source": [
    "# Aggregated stability metrics boxplots\n",
    "Weighted and unweighted ratio metrics using the corner travel dist as delta_vis"
   ]
  },
  {
   "cell_type": "code",
   "execution_count": 12,
   "metadata": {
    "papermill": {
     "duration": 0.020538,
     "end_time": "2017-11-27T14:10:13.362835",
     "exception": false,
     "start_time": "2017-11-27T14:10:13.342297",
     "status": "completed"
    },
    "tags": []
   },
   "outputs": [
    {
     "data": {
      "image/png": "[encoded data removed]",
      "text/plain": [
       "<matplotlib.figure.Figure at 0x7fd8f52a6f28>"
      ]
     },
     "metadata": {},
     "output_type": "display_data"
    }
   ],
   "source": [
    "technique_list = ['sqr', 'sgi', 'git']\n",
    "nrow = 1\n",
    "ncol = 3\n",
    "fig, axs = plt.subplots(nrow, ncol, sharex=True, sharey=True, figsize=(cm2inch(30), cm2inch(8)))\n",
    "fig.tight_layout()\n",
    "for i, ax in enumerate(fig.axes):\n",
    "    ax.set_title(technique_list[i].upper())\n",
    "\n",
    "    data = []\n",
    "    history = Parser.parse_rectangles(technique_list[i], dataset_id)\n",
    "    for i in range(1, len(history)):\n",
    "        df = TemporalMetrics.delta_vis(history[i - 1], history[i])\n",
    "        #df = pd.merge(df, TemporalMetrics.delta_data_by_area(history[i - 1], history[i]), left_index=True, right_index=True)\n",
    "        #df = pd.merge(df, TemporalMetrics.relative_weight(history[i - 1], history[i]), left_index=True, right_index=True)\n",
    "\n",
    "        #df_stab = TemporalMetrics.q_ratio(df)\n",
    "        #df_stab = pd.merge(df_stab, TemporalMetrics.q_weighted_ratio(df), left_index=True, right_index=True)\n",
    "        \n",
    "        column = 't' + str(i)\n",
    "        data.append(df.mean(axis=1))\n",
    "\n",
    "    bp = ax.boxplot(data, whis=[5, 95], showfliers=False, patch_artist=True, widths=1);\n",
    "    \n",
    "#    ax.set_ylim(ymin=-0.05)\n",
    "#    ax.set_yticks([0, .25, .5, .75], minor=False)\n",
    "#    ax.set_yticklabels([0, .25, .5, .75], fontdict=None, minor=False)\n",
    "    styleBoxplot(bp, ax, len(data))\n",
    "\n",
    "#fig.savefig('time/svg/' + dataset_id + '_stab.svg', format='svg', dpi=1200)"
   ]
  },
  {
   "cell_type": "code",
   "execution_count": null,
   "metadata": {
    "papermill": {
     "duration": 4e-06,
     "end_time": "2017-11-27T14:10:13.362931",
     "exception": null,
     "start_time": "2017-11-27T14:10:13.362927",
     "status": "completed"
    },
    "tags": []
   },
   "outputs": [],
   "source": []
  },
  {
   "cell_type": "code",
   "execution_count": null,
   "metadata": {
    "papermill": {
     "duration": 9e-06,
     "end_time": "2017-11-27T14:10:13.370583",
     "exception": null,
     "start_time": "2017-11-27T14:10:13.370574",
     "status": "completed"
    },
    "tags": []
   },
   "outputs": [],
   "source": []
  }
 ],
 "metadata": {
  "celltoolbar": "Tags",
  "kernelspec": {
   "display_name": "Python 3",
   "language": "python",
   "name": "python3"
  },
  "language_info": {
   "codemirror_mode": {
    "name": "ipython",
    "version": 3
   },
   "file_extension": ".py",
   "mimetype": "text/x-python",
   "name": "python",
   "nbconvert_exporter": "python",
   "pygments_lexer": "ipython3",
   "version": "3.5.2"
  },
  "papermill": {
   "duration": 22.957029,
   "end_time": "2017-11-27T14:10:14.553779",
   "environment_variables": {},
   "exception": false,
   "output_path": "time/bdb.ipynb",
   "parameters": {
    "dataset_id": "bdb"
   },
   "start_time": "2017-11-27T14:09:51.596750",
   "version": "0.10.0"
  }
 },
 "nbformat": 4,
 "nbformat_minor": 1
}
